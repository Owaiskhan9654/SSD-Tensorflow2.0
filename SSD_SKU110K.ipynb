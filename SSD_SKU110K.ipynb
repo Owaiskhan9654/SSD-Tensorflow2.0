{
  "nbformat": 4,
  "nbformat_minor": 0,
  "metadata": {
    "colab": {
      "name": "SSD_SKU110K.ipynb",
      "provenance": [],
      "collapsed_sections": [],
      "toc_visible": true,
      "machine_shape": "hm"
    },
    "kernelspec": {
      "name": "python3",
      "display_name": "Python 3"
    },
    "accelerator": "GPU"
  },
  "cells": [
    {
      "cell_type": "code",
      "metadata": {
        "id": "gsx5OqIv62mA",
        "colab_type": "code",
        "outputId": "baa9b3ff-9a76-4aa7-f87b-a6a566ade610",
        "colab": {
          "base_uri": "https://localhost:8080/",
          "height": 122
        }
      },
      "source": [
        "from google.colab import drive\n",
        "drive.mount('/content/drive')"
      ],
      "execution_count": 0,
      "outputs": [
        {
          "output_type": "stream",
          "text": [
            "Go to this URL in a browser: https://accounts.google.com/o/oauth2/auth?client_id=947318989803-6bn6qk8qdgf4n4g3pfee6491hc0brc4i.apps.googleusercontent.com&redirect_uri=urn%3aietf%3awg%3aoauth%3a2.0%3aoob&response_type=code&scope=email%20https%3a%2f%2fwww.googleapis.com%2fauth%2fdocs.test%20https%3a%2f%2fwww.googleapis.com%2fauth%2fdrive%20https%3a%2f%2fwww.googleapis.com%2fauth%2fdrive.photos.readonly%20https%3a%2f%2fwww.googleapis.com%2fauth%2fpeopleapi.readonly\n",
            "\n",
            "Enter your authorization code:\n",
            "··········\n",
            "Mounted at /content/drive\n"
          ],
          "name": "stdout"
        }
      ]
    },
    {
      "cell_type": "code",
      "metadata": {
        "id": "fRY24fGs6thP",
        "colab_type": "code",
        "outputId": "041e89c6-6bb0-44a5-ceaf-083d828d7166",
        "colab": {
          "base_uri": "https://localhost:8080/",
          "height": 34
        }
      },
      "source": [
        "!cp '/content/drive/My Drive/SKU110K_fixed.tar.gz' '/content/sku100k.tar.gz'"
      ],
      "execution_count": 0,
      "outputs": [
        {
          "output_type": "stream",
          "text": [
            "cp: cannot stat '/content/drive/My Drive/SKU110K_fixed.tar.gz': No such file or directory\n"
          ],
          "name": "stdout"
        }
      ]
    },
    {
      "cell_type": "code",
      "metadata": {
        "id": "SXkXF8Gr9sse",
        "colab_type": "code",
        "outputId": "2ff6bbc4-23a7-4616-ecea-95a109863d8f",
        "colab": {
          "base_uri": "https://localhost:8080/",
          "height": 340
        }
      },
      "source": [
        "import tarfile\n",
        "with tarfile.open('/content/drive/My Drive/sku100k.tar.gz') as tar:\n",
        "    tar.extractall()"
      ],
      "execution_count": 0,
      "outputs": [
        {
          "output_type": "error",
          "ename": "OSError",
          "evalue": "ignored",
          "traceback": [
            "\u001b[0;31m---------------------------------------------------------------------------\u001b[0m",
            "\u001b[0;31mOSError\u001b[0m                                   Traceback (most recent call last)",
            "\u001b[0;32m<ipython-input-26-f4e8944cd953>\u001b[0m in \u001b[0;36m<module>\u001b[0;34m()\u001b[0m\n\u001b[1;32m      1\u001b[0m \u001b[0;32mimport\u001b[0m \u001b[0mtarfile\u001b[0m\u001b[0;34m\u001b[0m\u001b[0;34m\u001b[0m\u001b[0m\n\u001b[1;32m      2\u001b[0m \u001b[0;32mwith\u001b[0m \u001b[0mtarfile\u001b[0m\u001b[0;34m.\u001b[0m\u001b[0mopen\u001b[0m\u001b[0;34m(\u001b[0m\u001b[0;34m'/content/drive/My Drive/sku100k.tar.gz'\u001b[0m\u001b[0;34m)\u001b[0m \u001b[0;32mas\u001b[0m \u001b[0mtar\u001b[0m\u001b[0;34m:\u001b[0m\u001b[0;34m\u001b[0m\u001b[0;34m\u001b[0m\u001b[0m\n\u001b[0;32m----> 3\u001b[0;31m     \u001b[0mtar\u001b[0m\u001b[0;34m.\u001b[0m\u001b[0mextractall\u001b[0m\u001b[0;34m(\u001b[0m\u001b[0;34m)\u001b[0m\u001b[0;34m\u001b[0m\u001b[0;34m\u001b[0m\u001b[0m\n\u001b[0m",
            "\u001b[0;32m/usr/lib/python3.6/tarfile.py\u001b[0m in \u001b[0;36mextractall\u001b[0;34m(self, path, members, numeric_owner)\u001b[0m\n\u001b[1;32m   2008\u001b[0m             \u001b[0;31m# Do not set_attrs directories, as we will do that further down\u001b[0m\u001b[0;34m\u001b[0m\u001b[0;34m\u001b[0m\u001b[0;34m\u001b[0m\u001b[0m\n\u001b[1;32m   2009\u001b[0m             self.extract(tarinfo, path, set_attrs=not tarinfo.isdir(),\n\u001b[0;32m-> 2010\u001b[0;31m                          numeric_owner=numeric_owner)\n\u001b[0m\u001b[1;32m   2011\u001b[0m \u001b[0;34m\u001b[0m\u001b[0m\n\u001b[1;32m   2012\u001b[0m         \u001b[0;31m# Reverse sort directories.\u001b[0m\u001b[0;34m\u001b[0m\u001b[0;34m\u001b[0m\u001b[0;34m\u001b[0m\u001b[0m\n",
            "\u001b[0;32m/usr/lib/python3.6/tarfile.py\u001b[0m in \u001b[0;36mextract\u001b[0;34m(self, member, path, set_attrs, numeric_owner)\u001b[0m\n\u001b[1;32m   2050\u001b[0m             self._extract_member(tarinfo, os.path.join(path, tarinfo.name),\n\u001b[1;32m   2051\u001b[0m                                  \u001b[0mset_attrs\u001b[0m\u001b[0;34m=\u001b[0m\u001b[0mset_attrs\u001b[0m\u001b[0;34m,\u001b[0m\u001b[0;34m\u001b[0m\u001b[0;34m\u001b[0m\u001b[0m\n\u001b[0;32m-> 2052\u001b[0;31m                                  numeric_owner=numeric_owner)\n\u001b[0m\u001b[1;32m   2053\u001b[0m         \u001b[0;32mexcept\u001b[0m \u001b[0mOSError\u001b[0m \u001b[0;32mas\u001b[0m \u001b[0me\u001b[0m\u001b[0;34m:\u001b[0m\u001b[0;34m\u001b[0m\u001b[0;34m\u001b[0m\u001b[0m\n\u001b[1;32m   2054\u001b[0m             \u001b[0;32mif\u001b[0m \u001b[0mself\u001b[0m\u001b[0;34m.\u001b[0m\u001b[0merrorlevel\u001b[0m \u001b[0;34m>\u001b[0m \u001b[0;36m0\u001b[0m\u001b[0;34m:\u001b[0m\u001b[0;34m\u001b[0m\u001b[0;34m\u001b[0m\u001b[0m\n",
            "\u001b[0;32m/usr/lib/python3.6/tarfile.py\u001b[0m in \u001b[0;36m_extract_member\u001b[0;34m(self, tarinfo, targetpath, set_attrs, numeric_owner)\u001b[0m\n\u001b[1;32m   2120\u001b[0m \u001b[0;34m\u001b[0m\u001b[0m\n\u001b[1;32m   2121\u001b[0m         \u001b[0;32mif\u001b[0m \u001b[0mtarinfo\u001b[0m\u001b[0;34m.\u001b[0m\u001b[0misreg\u001b[0m\u001b[0;34m(\u001b[0m\u001b[0;34m)\u001b[0m\u001b[0;34m:\u001b[0m\u001b[0;34m\u001b[0m\u001b[0;34m\u001b[0m\u001b[0m\n\u001b[0;32m-> 2122\u001b[0;31m             \u001b[0mself\u001b[0m\u001b[0;34m.\u001b[0m\u001b[0mmakefile\u001b[0m\u001b[0;34m(\u001b[0m\u001b[0mtarinfo\u001b[0m\u001b[0;34m,\u001b[0m \u001b[0mtargetpath\u001b[0m\u001b[0;34m)\u001b[0m\u001b[0;34m\u001b[0m\u001b[0;34m\u001b[0m\u001b[0m\n\u001b[0m\u001b[1;32m   2123\u001b[0m         \u001b[0;32melif\u001b[0m \u001b[0mtarinfo\u001b[0m\u001b[0;34m.\u001b[0m\u001b[0misdir\u001b[0m\u001b[0;34m(\u001b[0m\u001b[0;34m)\u001b[0m\u001b[0;34m:\u001b[0m\u001b[0;34m\u001b[0m\u001b[0;34m\u001b[0m\u001b[0m\n\u001b[1;32m   2124\u001b[0m             \u001b[0mself\u001b[0m\u001b[0;34m.\u001b[0m\u001b[0mmakedir\u001b[0m\u001b[0;34m(\u001b[0m\u001b[0mtarinfo\u001b[0m\u001b[0;34m,\u001b[0m \u001b[0mtargetpath\u001b[0m\u001b[0;34m)\u001b[0m\u001b[0;34m\u001b[0m\u001b[0;34m\u001b[0m\u001b[0m\n",
            "\u001b[0;32m/usr/lib/python3.6/tarfile.py\u001b[0m in \u001b[0;36mmakefile\u001b[0;34m(self, tarinfo, targetpath)\u001b[0m\n\u001b[1;32m   2169\u001b[0m                 \u001b[0mtarget\u001b[0m\u001b[0;34m.\u001b[0m\u001b[0mtruncate\u001b[0m\u001b[0;34m(\u001b[0m\u001b[0;34m)\u001b[0m\u001b[0;34m\u001b[0m\u001b[0;34m\u001b[0m\u001b[0m\n\u001b[1;32m   2170\u001b[0m             \u001b[0;32melse\u001b[0m\u001b[0;34m:\u001b[0m\u001b[0;34m\u001b[0m\u001b[0;34m\u001b[0m\u001b[0m\n\u001b[0;32m-> 2171\u001b[0;31m                 \u001b[0mcopyfileobj\u001b[0m\u001b[0;34m(\u001b[0m\u001b[0msource\u001b[0m\u001b[0;34m,\u001b[0m \u001b[0mtarget\u001b[0m\u001b[0;34m,\u001b[0m \u001b[0mtarinfo\u001b[0m\u001b[0;34m.\u001b[0m\u001b[0msize\u001b[0m\u001b[0;34m,\u001b[0m \u001b[0mReadError\u001b[0m\u001b[0;34m,\u001b[0m \u001b[0mbufsize\u001b[0m\u001b[0;34m)\u001b[0m\u001b[0;34m\u001b[0m\u001b[0;34m\u001b[0m\u001b[0m\n\u001b[0m\u001b[1;32m   2172\u001b[0m \u001b[0;34m\u001b[0m\u001b[0m\n\u001b[1;32m   2173\u001b[0m     \u001b[0;32mdef\u001b[0m \u001b[0mmakeunknown\u001b[0m\u001b[0;34m(\u001b[0m\u001b[0mself\u001b[0m\u001b[0;34m,\u001b[0m \u001b[0mtarinfo\u001b[0m\u001b[0;34m,\u001b[0m \u001b[0mtargetpath\u001b[0m\u001b[0;34m)\u001b[0m\u001b[0;34m:\u001b[0m\u001b[0;34m\u001b[0m\u001b[0;34m\u001b[0m\u001b[0m\n",
            "\u001b[0;32m/usr/lib/python3.6/tarfile.py\u001b[0m in \u001b[0;36mcopyfileobj\u001b[0;34m(src, dst, length, exception, bufsize)\u001b[0m\n\u001b[1;32m    247\u001b[0m     \u001b[0mblocks\u001b[0m\u001b[0;34m,\u001b[0m \u001b[0mremainder\u001b[0m \u001b[0;34m=\u001b[0m \u001b[0mdivmod\u001b[0m\u001b[0;34m(\u001b[0m\u001b[0mlength\u001b[0m\u001b[0;34m,\u001b[0m \u001b[0mbufsize\u001b[0m\u001b[0;34m)\u001b[0m\u001b[0;34m\u001b[0m\u001b[0;34m\u001b[0m\u001b[0m\n\u001b[1;32m    248\u001b[0m     \u001b[0;32mfor\u001b[0m \u001b[0mb\u001b[0m \u001b[0;32min\u001b[0m \u001b[0mrange\u001b[0m\u001b[0;34m(\u001b[0m\u001b[0mblocks\u001b[0m\u001b[0;34m)\u001b[0m\u001b[0;34m:\u001b[0m\u001b[0;34m\u001b[0m\u001b[0;34m\u001b[0m\u001b[0m\n\u001b[0;32m--> 249\u001b[0;31m         \u001b[0mbuf\u001b[0m \u001b[0;34m=\u001b[0m \u001b[0msrc\u001b[0m\u001b[0;34m.\u001b[0m\u001b[0mread\u001b[0m\u001b[0;34m(\u001b[0m\u001b[0mbufsize\u001b[0m\u001b[0;34m)\u001b[0m\u001b[0;34m\u001b[0m\u001b[0;34m\u001b[0m\u001b[0m\n\u001b[0m\u001b[1;32m    250\u001b[0m         \u001b[0;32mif\u001b[0m \u001b[0mlen\u001b[0m\u001b[0;34m(\u001b[0m\u001b[0mbuf\u001b[0m\u001b[0;34m)\u001b[0m \u001b[0;34m<\u001b[0m \u001b[0mbufsize\u001b[0m\u001b[0;34m:\u001b[0m\u001b[0;34m\u001b[0m\u001b[0;34m\u001b[0m\u001b[0m\n\u001b[1;32m    251\u001b[0m             \u001b[0;32mraise\u001b[0m \u001b[0mexception\u001b[0m\u001b[0;34m(\u001b[0m\u001b[0;34m\"unexpected end of data\"\u001b[0m\u001b[0;34m)\u001b[0m\u001b[0;34m\u001b[0m\u001b[0;34m\u001b[0m\u001b[0m\n",
            "\u001b[0;32m/usr/lib/python3.6/gzip.py\u001b[0m in \u001b[0;36mread\u001b[0;34m(self, size)\u001b[0m\n\u001b[1;32m    274\u001b[0m             \u001b[0;32mimport\u001b[0m \u001b[0merrno\u001b[0m\u001b[0;34m\u001b[0m\u001b[0;34m\u001b[0m\u001b[0m\n\u001b[1;32m    275\u001b[0m             \u001b[0;32mraise\u001b[0m \u001b[0mOSError\u001b[0m\u001b[0;34m(\u001b[0m\u001b[0merrno\u001b[0m\u001b[0;34m.\u001b[0m\u001b[0mEBADF\u001b[0m\u001b[0;34m,\u001b[0m \u001b[0;34m\"read() on write-only GzipFile object\"\u001b[0m\u001b[0;34m)\u001b[0m\u001b[0;34m\u001b[0m\u001b[0;34m\u001b[0m\u001b[0m\n\u001b[0;32m--> 276\u001b[0;31m         \u001b[0;32mreturn\u001b[0m \u001b[0mself\u001b[0m\u001b[0;34m.\u001b[0m\u001b[0m_buffer\u001b[0m\u001b[0;34m.\u001b[0m\u001b[0mread\u001b[0m\u001b[0;34m(\u001b[0m\u001b[0msize\u001b[0m\u001b[0;34m)\u001b[0m\u001b[0;34m\u001b[0m\u001b[0;34m\u001b[0m\u001b[0m\n\u001b[0m\u001b[1;32m    277\u001b[0m \u001b[0;34m\u001b[0m\u001b[0m\n\u001b[1;32m    278\u001b[0m     \u001b[0;32mdef\u001b[0m \u001b[0mread1\u001b[0m\u001b[0;34m(\u001b[0m\u001b[0mself\u001b[0m\u001b[0;34m,\u001b[0m \u001b[0msize\u001b[0m\u001b[0;34m=\u001b[0m\u001b[0;34m-\u001b[0m\u001b[0;36m1\u001b[0m\u001b[0;34m)\u001b[0m\u001b[0;34m:\u001b[0m\u001b[0;34m\u001b[0m\u001b[0;34m\u001b[0m\u001b[0m\n",
            "\u001b[0;32m/usr/lib/python3.6/_compression.py\u001b[0m in \u001b[0;36mreadinto\u001b[0;34m(self, b)\u001b[0m\n\u001b[1;32m     66\u001b[0m     \u001b[0;32mdef\u001b[0m \u001b[0mreadinto\u001b[0m\u001b[0;34m(\u001b[0m\u001b[0mself\u001b[0m\u001b[0;34m,\u001b[0m \u001b[0mb\u001b[0m\u001b[0;34m)\u001b[0m\u001b[0;34m:\u001b[0m\u001b[0;34m\u001b[0m\u001b[0;34m\u001b[0m\u001b[0m\n\u001b[1;32m     67\u001b[0m         \u001b[0;32mwith\u001b[0m \u001b[0mmemoryview\u001b[0m\u001b[0;34m(\u001b[0m\u001b[0mb\u001b[0m\u001b[0;34m)\u001b[0m \u001b[0;32mas\u001b[0m \u001b[0mview\u001b[0m\u001b[0;34m,\u001b[0m \u001b[0mview\u001b[0m\u001b[0;34m.\u001b[0m\u001b[0mcast\u001b[0m\u001b[0;34m(\u001b[0m\u001b[0;34m\"B\"\u001b[0m\u001b[0;34m)\u001b[0m \u001b[0;32mas\u001b[0m \u001b[0mbyte_view\u001b[0m\u001b[0;34m:\u001b[0m\u001b[0;34m\u001b[0m\u001b[0;34m\u001b[0m\u001b[0m\n\u001b[0;32m---> 68\u001b[0;31m             \u001b[0mdata\u001b[0m \u001b[0;34m=\u001b[0m \u001b[0mself\u001b[0m\u001b[0;34m.\u001b[0m\u001b[0mread\u001b[0m\u001b[0;34m(\u001b[0m\u001b[0mlen\u001b[0m\u001b[0;34m(\u001b[0m\u001b[0mbyte_view\u001b[0m\u001b[0;34m)\u001b[0m\u001b[0;34m)\u001b[0m\u001b[0;34m\u001b[0m\u001b[0;34m\u001b[0m\u001b[0m\n\u001b[0m\u001b[1;32m     69\u001b[0m             \u001b[0mbyte_view\u001b[0m\u001b[0;34m[\u001b[0m\u001b[0;34m:\u001b[0m\u001b[0mlen\u001b[0m\u001b[0;34m(\u001b[0m\u001b[0mdata\u001b[0m\u001b[0;34m)\u001b[0m\u001b[0;34m]\u001b[0m \u001b[0;34m=\u001b[0m \u001b[0mdata\u001b[0m\u001b[0;34m\u001b[0m\u001b[0;34m\u001b[0m\u001b[0m\n\u001b[1;32m     70\u001b[0m         \u001b[0;32mreturn\u001b[0m \u001b[0mlen\u001b[0m\u001b[0;34m(\u001b[0m\u001b[0mdata\u001b[0m\u001b[0;34m)\u001b[0m\u001b[0;34m\u001b[0m\u001b[0;34m\u001b[0m\u001b[0m\n",
            "\u001b[0;32m/usr/lib/python3.6/gzip.py\u001b[0m in \u001b[0;36mread\u001b[0;34m(self, size)\u001b[0m\n\u001b[1;32m    467\u001b[0m \u001b[0;34m\u001b[0m\u001b[0m\n\u001b[1;32m    468\u001b[0m             \u001b[0;31m# Read a chunk of data from the file\u001b[0m\u001b[0;34m\u001b[0m\u001b[0;34m\u001b[0m\u001b[0;34m\u001b[0m\u001b[0m\n\u001b[0;32m--> 469\u001b[0;31m             \u001b[0mbuf\u001b[0m \u001b[0;34m=\u001b[0m \u001b[0mself\u001b[0m\u001b[0;34m.\u001b[0m\u001b[0m_fp\u001b[0m\u001b[0;34m.\u001b[0m\u001b[0mread\u001b[0m\u001b[0;34m(\u001b[0m\u001b[0mio\u001b[0m\u001b[0;34m.\u001b[0m\u001b[0mDEFAULT_BUFFER_SIZE\u001b[0m\u001b[0;34m)\u001b[0m\u001b[0;34m\u001b[0m\u001b[0;34m\u001b[0m\u001b[0m\n\u001b[0m\u001b[1;32m    470\u001b[0m \u001b[0;34m\u001b[0m\u001b[0m\n\u001b[1;32m    471\u001b[0m             \u001b[0muncompress\u001b[0m \u001b[0;34m=\u001b[0m \u001b[0mself\u001b[0m\u001b[0;34m.\u001b[0m\u001b[0m_decompressor\u001b[0m\u001b[0;34m.\u001b[0m\u001b[0mdecompress\u001b[0m\u001b[0;34m(\u001b[0m\u001b[0mbuf\u001b[0m\u001b[0;34m,\u001b[0m \u001b[0msize\u001b[0m\u001b[0;34m)\u001b[0m\u001b[0;34m\u001b[0m\u001b[0;34m\u001b[0m\u001b[0m\n",
            "\u001b[0;32m/usr/lib/python3.6/gzip.py\u001b[0m in \u001b[0;36mread\u001b[0;34m(self, size)\u001b[0m\n\u001b[1;32m     80\u001b[0m     \u001b[0;32mdef\u001b[0m \u001b[0mread\u001b[0m\u001b[0;34m(\u001b[0m\u001b[0mself\u001b[0m\u001b[0;34m,\u001b[0m \u001b[0msize\u001b[0m\u001b[0;34m)\u001b[0m\u001b[0;34m:\u001b[0m\u001b[0;34m\u001b[0m\u001b[0;34m\u001b[0m\u001b[0m\n\u001b[1;32m     81\u001b[0m         \u001b[0;32mif\u001b[0m \u001b[0mself\u001b[0m\u001b[0;34m.\u001b[0m\u001b[0m_read\u001b[0m \u001b[0;32mis\u001b[0m \u001b[0;32mNone\u001b[0m\u001b[0;34m:\u001b[0m\u001b[0;34m\u001b[0m\u001b[0;34m\u001b[0m\u001b[0m\n\u001b[0;32m---> 82\u001b[0;31m             \u001b[0;32mreturn\u001b[0m \u001b[0mself\u001b[0m\u001b[0;34m.\u001b[0m\u001b[0mfile\u001b[0m\u001b[0;34m.\u001b[0m\u001b[0mread\u001b[0m\u001b[0;34m(\u001b[0m\u001b[0msize\u001b[0m\u001b[0;34m)\u001b[0m\u001b[0;34m\u001b[0m\u001b[0;34m\u001b[0m\u001b[0m\n\u001b[0m\u001b[1;32m     83\u001b[0m         \u001b[0;32mif\u001b[0m \u001b[0mself\u001b[0m\u001b[0;34m.\u001b[0m\u001b[0m_read\u001b[0m \u001b[0;34m+\u001b[0m \u001b[0msize\u001b[0m \u001b[0;34m<=\u001b[0m \u001b[0mself\u001b[0m\u001b[0;34m.\u001b[0m\u001b[0m_length\u001b[0m\u001b[0;34m:\u001b[0m\u001b[0;34m\u001b[0m\u001b[0;34m\u001b[0m\u001b[0m\n\u001b[1;32m     84\u001b[0m             \u001b[0mread\u001b[0m \u001b[0;34m=\u001b[0m \u001b[0mself\u001b[0m\u001b[0;34m.\u001b[0m\u001b[0m_read\u001b[0m\u001b[0;34m\u001b[0m\u001b[0;34m\u001b[0m\u001b[0m\n",
            "\u001b[0;31mOSError\u001b[0m: [Errno 125] Operation canceled"
          ]
        }
      ]
    },
    {
      "cell_type": "code",
      "metadata": {
        "id": "jn7fIDpNqXMy",
        "colab_type": "code",
        "outputId": "06b2ef0c-56dc-40f1-ec10-6cbb3cc6af9b",
        "colab": {
          "base_uri": "https://localhost:8080/",
          "height": 34
        }
      },
      "source": [
        "import os\n",
        "len(os.listdir('/content/SKU110K/images'))"
      ],
      "execution_count": 0,
      "outputs": [
        {
          "output_type": "execute_result",
          "data": {
            "text/plain": [
              "4369"
            ]
          },
          "metadata": {
            "tags": []
          },
          "execution_count": 14
        }
      ]
    },
    {
      "cell_type": "markdown",
      "metadata": {
        "id": "kFD6TiXO2CZO",
        "colab_type": "text"
      },
      "source": [
        "## Importing Libraries\n"
      ]
    },
    {
      "cell_type": "code",
      "metadata": {
        "id": "Lg-4jaxUvJyF",
        "colab_type": "code",
        "colab": {}
      },
      "source": [
        "from tensorflow.python.keras.preprocessing.text import Tokenizer\n",
        "from google.colab.patches import cv2_imshow\n",
        "import matplotlib.pyplot as plt\n",
        "import tensorflow as tf\n",
        "import pandas as pd\n",
        "import numpy as np\n",
        "import os\n",
        "import cv2\n",
        "import re"
      ],
      "execution_count": 0,
      "outputs": []
    },
    {
      "cell_type": "markdown",
      "metadata": {
        "id": "6tfB07u92Z8B",
        "colab_type": "text"
      },
      "source": [
        "## Train and Test Data Path\n"
      ]
    },
    {
      "cell_type": "markdown",
      "metadata": {
        "id": "6dTC9CSg271v",
        "colab_type": "text"
      },
      "source": [
        "### Pre Processing image and label"
      ]
    },
    {
      "cell_type": "code",
      "metadata": {
        "id": "idOf0kZNH0Jf",
        "colab_type": "code",
        "colab": {}
      },
      "source": [
        "hImage,wImage=512,512\n",
        "nClasses=1\n",
        "\n",
        "def pre_process_data(path):\n",
        "  colnames=['Img','x','y','w','h',\\\n",
        "            'class','ImgW','ImgH']\n",
        "  \n",
        "  annotate_data=pd.read_csv(path)\n",
        "  tokenizer = Tokenizer()\n",
        "  tokenizer.fit_on_texts(annotate_data['class'])\n",
        "  idx=tokenizer.word_index\n",
        "\n",
        "  annotate_data = annotate_data.astype({\"x1\": float,\\\n",
        "                                        \"x2\": float,\\\n",
        "                                        \"y1\": float,\\\n",
        "                                        \"y2\": float})\n",
        "\n",
        "  #Resize bb according to image\n",
        "  annotate_data.iloc[:,1]=(annotate_data.iloc\\\n",
        "                           [:,1]*wImage)/annotate_data.iloc[:,6]\n",
        "  annotate_data.iloc[:,2]=(annotate_data.iloc\\\n",
        "                           [:,2]*hImage)/annotate_data.iloc[:,7]\n",
        "  annotate_data.iloc[:,3]=(annotate_data.iloc\\\n",
        "                           [:,3]*wImage)/annotate_data.iloc[:,6]\n",
        "  annotate_data.iloc[:,4]=(annotate_data.iloc\\\n",
        "                           [:,4]*hImage)/annotate_data.iloc[:,7]\n",
        "  \n",
        "  annotate_data.iloc[:,5]=idx['object']\n",
        "  annotate_data['boxes_x1y1x2y2']=annotate_data\\\n",
        "  [['x1','y1','x2','y2','class']].to_numpy().tolist()\n",
        "\n",
        "  #Converting to x,y,w,h\n",
        "  annotate_data.iloc[:,1]=(annotate_data.iloc\\\n",
        "                           [:,1]+annotate_data.iloc[:,3])/2.0\n",
        "  annotate_data.iloc[:,2]=(annotate_data.iloc\\\n",
        "                           [:,2]+annotate_data.iloc[:,4])/2.0\n",
        "  annotate_data.iloc[:,3]=(annotate_data.iloc\\\n",
        "                           [:,3]-annotate_data.iloc[:,1])\n",
        "  annotate_data.iloc[:,4]=(annotate_data.iloc\\\n",
        "                           [:,4]-annotate_data.iloc[:,2])\n",
        "  annotate_data['boxes_xywh']=annotate_data\\\n",
        "  [['x1','y1','x2','y2','class']].to_numpy().tolist()\n",
        "  annotate_data = annotate_data.groupby('image_name').\\\n",
        "  aggregate(lambda tdf: tdf.tolist())\n",
        "  return annotate_data\n",
        "\n",
        "path='/content/SKU110K/annotations/annotations_val.csv'\n",
        "annotate_data=pre_process_data(path)\n"
      ],
      "execution_count": 0,
      "outputs": []
    },
    {
      "cell_type": "code",
      "metadata": {
        "id": "8Gt2bClZcK9Y",
        "colab_type": "code",
        "colab": {}
      },
      "source": [
        "def read_img(img):\n",
        "  with tf.io.gfile.GFile(img, 'rb') as fp:\n",
        "    image = fp.read()\n",
        "\n",
        "    \n",
        "  return image"
      ],
      "execution_count": 0,
      "outputs": []
    },
    {
      "cell_type": "code",
      "metadata": {
        "id": "mSrAanmdyHtf",
        "colab_type": "code",
        "outputId": "07dddd89-531b-4615-81d8-1c173a4f1590",
        "colab": {
          "base_uri": "https://localhost:8080/",
          "height": 163
        }
      },
      "source": [
        "annotate_data=annotate_data[:10]"
      ],
      "execution_count": 0,
      "outputs": [
        {
          "output_type": "error",
          "ename": "NameError",
          "evalue": "ignored",
          "traceback": [
            "\u001b[0;31m---------------------------------------------------------------------------\u001b[0m",
            "\u001b[0;31mNameError\u001b[0m                                 Traceback (most recent call last)",
            "\u001b[0;32m<ipython-input-8-7b194bc9612c>\u001b[0m in \u001b[0;36m<module>\u001b[0;34m()\u001b[0m\n\u001b[0;32m----> 1\u001b[0;31m \u001b[0mannotate_data\u001b[0m\u001b[0;34m=\u001b[0m\u001b[0mannotate_data\u001b[0m\u001b[0;34m[\u001b[0m\u001b[0;34m:\u001b[0m\u001b[0;36m10\u001b[0m\u001b[0;34m]\u001b[0m\u001b[0;34m\u001b[0m\u001b[0;34m\u001b[0m\u001b[0m\n\u001b[0m",
            "\u001b[0;31mNameError\u001b[0m: name 'annotate_data' is not defined"
          ]
        }
      ]
    },
    {
      "cell_type": "code",
      "metadata": {
        "id": "awo67XjvtuqM",
        "colab_type": "code",
        "outputId": "7a03b7a1-be84-4c51-a77e-c1fe1fce2a8f",
        "colab": {
          "base_uri": "https://localhost:8080/",
          "height": 411
        }
      },
      "source": [
        "def wrap_bytes(img):\n",
        "  return tf.train.Feature(bytes_list=tf.train.BytesList(value=[img]))\n",
        "\n",
        "def wrap_float(value):\n",
        "  return tf.train.Feature(float_list=tf.train.FloatList(value=[value]))\n",
        "\n",
        "out_path='/content/val.tfrecords'\n",
        "def convert_tfrecord(images,labels,out_path):\n",
        "  root='/content/SKU110K/images'\n",
        "  with tf.io.TFRecordWriter(out_path) as writer:\n",
        "    for i in range(len(images)):\n",
        "      print(type(images))\n",
        "      print(type(labels))\n",
        "      label_0=[]\n",
        "      for i in np.array(labels[i])[:,0]:\n",
        "        label_0.append(i)\n",
        "      print(label_0)\n",
        "      image=os.path.join(root,images[i])\n",
        "      img_bytes=read_img(image)\n",
        "      sku={\n",
        "            'image':wrap_bytes(img_bytes),\n",
        "            'x':wrap_float(label_0),\n",
        "            'y':wrap_float(np.array(labels)[:,1]),\n",
        "            'w':wrap_float(np.array(labels)[:,2]),\n",
        "            'h':wrap_float(np.array(labels)[:,3]),\n",
        "            'class':wrap_float(np.array(labels)[:,4])\n",
        "      }\n",
        "      feature=tf.train.Features(feature=sku)\n",
        "      example=tf.train.Example(features=feature)\n",
        "      serialized=example.SerializeToString()\n",
        "      writer.write(serialized)\n",
        "convert_tfrecord(annotate_data.index,annotate_data['boxes_xywh'],out_path)\n"
      ],
      "execution_count": 0,
      "outputs": [
        {
          "output_type": "stream",
          "text": [
            "<class 'pandas.core.indexes.base.Index'>\n",
            "<class 'pandas.core.series.Series'>\n",
            "[24.54794520547945, 115.72602739726028, 146.95890410958904, 180.82191780821918, 212.71232876712327, 245.91780821917808, 278.02739726027403, 309.04109589041093, 340.05479452054794, 371.3972602739726, 402.95890410958907, 433.31506849315065, 463.7808219178082, 495.3424657534247, 494.9041095890411, 468.4931506849315, 80.0, 44.82191780821918, 30.575342465753423, 13.917808219178083, 458.5205479452055, 488.0, 485.47945205479454, 454.24657534246575, 423.67123287671234, 393.972602739726, 360.54794520547944, 440.986301369863, 326.027397260274, 267.94520547945206, 239.78082191780823, 209.75342465753425, 179.2876712328767, 145.3150684931507, 113.86301369863014, 80.0, 295.1232876712329, 415.67123287671234, 387.5068493150685, 358.79452054794524, 223.23287671232876, 249.0958904109589, 277.5890410958904, 277.3698630136986, 281.75342465753425, 270.13698630136986, 259.83561643835617, 196.16438356164383, 308.6027397260274, 343.56164383561645, 383.8904109589041, 434.8493150684932, 465.3150684931507, 465.86301369863014, 439.013698630137, 496.2191780821918, 342.1369863013699, 433.20547945205476, 173.36986301369865, 124.05479452054794, 331.6164383561644, 304.0, 275.17808219178085, 244.3835616438356, 209.64383561643837, 173.15068493150685, 136.65753424657532, 151.56164383561645, 100.6027397260274, 69.15068493150685, 48.10958904109589, 32.43835616438356, 11.726027397260273, 28.383561643835616, 63.34246575342466, 94.68493150684932, 83.83561643835617, 408.1095890410959, 84.4931506849315, 357.04109589041093, 297.5342465753424, 255.8904109589041, 256.1095890410959, 214.9041095890411, 161.31506849315068, 160.32876712328766, 111.23287671232876, 297.31506849315065, 79.23287671232876, 41.31506849315069, 36.49315068493151, 47.34246575342466, 31.34246575342466, 91.5068493150685, 118.57534246575344, 145.31506849315068, 11.068493150684931, 230.02739726027397, 376.43835616438355, 455.2328767123288, 381.9178082191781, 118.13698630136986, 148.82191780821915, 188.93150684931507, 189.91780821917808, 230.13698630136986, 262.57534246575347, 419.3972602739726, 301.1506849315069, 401.972602739726, 402.1917808219178, 437.04109589041093, 464.7671232876712, 494.4657534246576, 502.9041095890411, 483.83561643835617, 337.20547945205476, 257.0958904109589, 335.56164383561645, 306.082191780822, 32.0, 21.589041095890412, 7.780821917808219, 24.0, 10.95890410958904, 39.23287671232877, 78.02739726027397, 77.91780821917808, 107.61643835616438, 164.7123287671233, 191.013698630137, 218.73972602739724, 247.56164383561645, 274.1917808219178, 300.71232876712327, 280.32876712328766, 136.21917808219177, 113.86301369863014, 327.45205479452056, 331.06849315068496, 148.16438356164383, 356.71232876712327, 381.1506849315068, 406.027397260274, 431.013698630137, 483.6164383561644, 465.31506849315065, 433.0958904109589, 456.7671232876712, 372.82191780821915, 338.6301369863014, 307.3972602739726, 275.5068493150685, 245.04109589041096, 212.60273972602738, 179.94520547945206, 404.2739726027397]\n"
          ],
          "name": "stdout"
        },
        {
          "output_type": "error",
          "ename": "IndexError",
          "evalue": "ignored",
          "traceback": [
            "\u001b[0;31m---------------------------------------------------------------------------\u001b[0m",
            "\u001b[0;31mIndexError\u001b[0m                                Traceback (most recent call last)",
            "\u001b[0;32m<ipython-input-44-0809d4ac65b7>\u001b[0m in \u001b[0;36m<module>\u001b[0;34m()\u001b[0m\n\u001b[1;32m     30\u001b[0m       \u001b[0mserialized\u001b[0m\u001b[0;34m=\u001b[0m\u001b[0mexample\u001b[0m\u001b[0;34m.\u001b[0m\u001b[0mSerializeToString\u001b[0m\u001b[0;34m(\u001b[0m\u001b[0;34m)\u001b[0m\u001b[0;34m\u001b[0m\u001b[0;34m\u001b[0m\u001b[0m\n\u001b[1;32m     31\u001b[0m       \u001b[0mwriter\u001b[0m\u001b[0;34m.\u001b[0m\u001b[0mwrite\u001b[0m\u001b[0;34m(\u001b[0m\u001b[0mserialized\u001b[0m\u001b[0;34m)\u001b[0m\u001b[0;34m\u001b[0m\u001b[0;34m\u001b[0m\u001b[0m\n\u001b[0;32m---> 32\u001b[0;31m \u001b[0mconvert_tfrecord\u001b[0m\u001b[0;34m(\u001b[0m\u001b[0mannotate_data\u001b[0m\u001b[0;34m.\u001b[0m\u001b[0mindex\u001b[0m\u001b[0;34m,\u001b[0m\u001b[0mannotate_data\u001b[0m\u001b[0;34m[\u001b[0m\u001b[0;34m'boxes_xywh'\u001b[0m\u001b[0;34m]\u001b[0m\u001b[0;34m,\u001b[0m\u001b[0mout_path\u001b[0m\u001b[0;34m)\u001b[0m\u001b[0;34m\u001b[0m\u001b[0;34m\u001b[0m\u001b[0m\n\u001b[0m",
            "\u001b[0;32m<ipython-input-44-0809d4ac65b7>\u001b[0m in \u001b[0;36mconvert_tfrecord\u001b[0;34m(images, labels, out_path)\u001b[0m\n\u001b[1;32m     16\u001b[0m         \u001b[0mlabel\u001b[0m\u001b[0;34m.\u001b[0m\u001b[0mappend\u001b[0m\u001b[0;34m(\u001b[0m\u001b[0mi\u001b[0m\u001b[0;34m)\u001b[0m\u001b[0;34m\u001b[0m\u001b[0;34m\u001b[0m\u001b[0m\n\u001b[1;32m     17\u001b[0m       \u001b[0mprint\u001b[0m\u001b[0;34m(\u001b[0m\u001b[0mlabel\u001b[0m\u001b[0;34m)\u001b[0m\u001b[0;34m\u001b[0m\u001b[0;34m\u001b[0m\u001b[0m\n\u001b[0;32m---> 18\u001b[0;31m       \u001b[0mimage\u001b[0m\u001b[0;34m=\u001b[0m\u001b[0mos\u001b[0m\u001b[0;34m.\u001b[0m\u001b[0mpath\u001b[0m\u001b[0;34m.\u001b[0m\u001b[0mjoin\u001b[0m\u001b[0;34m(\u001b[0m\u001b[0mroot\u001b[0m\u001b[0;34m,\u001b[0m\u001b[0mimages\u001b[0m\u001b[0;34m[\u001b[0m\u001b[0mi\u001b[0m\u001b[0;34m]\u001b[0m\u001b[0;34m)\u001b[0m\u001b[0;34m\u001b[0m\u001b[0;34m\u001b[0m\u001b[0m\n\u001b[0m\u001b[1;32m     19\u001b[0m       \u001b[0mimg_bytes\u001b[0m\u001b[0;34m=\u001b[0m\u001b[0mread_img\u001b[0m\u001b[0;34m(\u001b[0m\u001b[0mimage\u001b[0m\u001b[0;34m)\u001b[0m\u001b[0;34m\u001b[0m\u001b[0;34m\u001b[0m\u001b[0m\n\u001b[1;32m     20\u001b[0m       sku={\n",
            "\u001b[0;32m/usr/local/lib/python3.6/dist-packages/pandas/core/indexes/base.py\u001b[0m in \u001b[0;36m__getitem__\u001b[0;34m(self, key)\u001b[0m\n\u001b[1;32m   3927\u001b[0m         \u001b[0;32mif\u001b[0m \u001b[0mis_scalar\u001b[0m\u001b[0;34m(\u001b[0m\u001b[0mkey\u001b[0m\u001b[0;34m)\u001b[0m\u001b[0;34m:\u001b[0m\u001b[0;34m\u001b[0m\u001b[0;34m\u001b[0m\u001b[0m\n\u001b[1;32m   3928\u001b[0m             \u001b[0mkey\u001b[0m \u001b[0;34m=\u001b[0m \u001b[0mcom\u001b[0m\u001b[0;34m.\u001b[0m\u001b[0mcast_scalar_indexer\u001b[0m\u001b[0;34m(\u001b[0m\u001b[0mkey\u001b[0m\u001b[0;34m)\u001b[0m\u001b[0;34m\u001b[0m\u001b[0;34m\u001b[0m\u001b[0m\n\u001b[0;32m-> 3929\u001b[0;31m             \u001b[0;32mreturn\u001b[0m \u001b[0mgetitem\u001b[0m\u001b[0;34m(\u001b[0m\u001b[0mkey\u001b[0m\u001b[0;34m)\u001b[0m\u001b[0;34m\u001b[0m\u001b[0;34m\u001b[0m\u001b[0m\n\u001b[0m\u001b[1;32m   3930\u001b[0m \u001b[0;34m\u001b[0m\u001b[0m\n\u001b[1;32m   3931\u001b[0m         \u001b[0;32mif\u001b[0m \u001b[0misinstance\u001b[0m\u001b[0;34m(\u001b[0m\u001b[0mkey\u001b[0m\u001b[0;34m,\u001b[0m \u001b[0mslice\u001b[0m\u001b[0;34m)\u001b[0m\u001b[0;34m:\u001b[0m\u001b[0;34m\u001b[0m\u001b[0;34m\u001b[0m\u001b[0m\n",
            "\u001b[0;31mIndexError\u001b[0m: only integers, slices (`:`), ellipsis (`...`), numpy.newaxis (`None`) and integer or boolean arrays are valid indices"
          ]
        }
      ]
    },
    {
      "cell_type": "code",
      "metadata": {
        "id": "uTGiRIJXatnC",
        "colab_type": "code",
        "colab": {}
      },
      "source": [
        "i1xywh\n",
        "i1xywh\n",
        "i1xywh\n"
      ],
      "execution_count": 0,
      "outputs": []
    },
    {
      "cell_type": "code",
      "metadata": {
        "id": "4-mqdArpUXNO",
        "colab_type": "code",
        "outputId": "f0816933-6169-4d32-e57c-6b196a116770",
        "colab": {
          "base_uri": "https://localhost:8080/",
          "height": 34
        }
      },
      "source": [
        "a=[[1,5],[2,3]]\n",
        "np.array(a)[:,0]"
      ],
      "execution_count": 0,
      "outputs": [
        {
          "output_type": "execute_result",
          "data": {
            "text/plain": [
              "array([1, 2])"
            ]
          },
          "metadata": {
            "tags": []
          },
          "execution_count": 31
        }
      ]
    },
    {
      "cell_type": "code",
      "metadata": {
        "id": "wsHwbxxPDHLN",
        "colab_type": "code",
        "colab": {}
      },
      "source": [
        "def convert_back(serialized):  \n",
        "  feature={\n",
        "      'image':tf.io.FixedLenFeature([],tf.string),\n",
        "      'x':tf.io.VarLenFeature(tf.float32),\n",
        "      'y':tf.io.VarLenFeature(tf.float32),\n",
        "      'w':tf.io.VarLenFeature(tf.float32),\n",
        "      'h':tf.io.VarLenFeature(tf.float32),\n",
        "      'class':tf.io.VarLenFeature(tf.float32)\n",
        "  }\n",
        "  parsed_example = tf.io.parse_single_example(serialized=serialized,\n",
        "                                            features=feature)\n",
        "  img = tf.io.decode_image(parsed_example['image'],channels=3)\n",
        "\n",
        "  label=tf.stack([tf.sparse.to_dense(parsed_example['x']),\n",
        "            tf.sparse.to_dense(parsed_example['y']),\n",
        "            tf.sparse.to_dense(parsed_example['w']),\n",
        "            tf.sparse.to_dense(parsed_example['h']),\n",
        "            tf.sparse.to_dense(parsed_example['class'])],axis=-1)\n",
        "  return img, label"
      ],
      "execution_count": 0,
      "outputs": []
    },
    {
      "cell_type": "code",
      "metadata": {
        "id": "vQah7w272JwB",
        "colab_type": "code",
        "outputId": "aaff07f1-93cb-4bb7-cf38-e263a8ed74f8",
        "colab": {
          "base_uri": "https://localhost:8080/",
          "height": 887
        }
      },
      "source": [
        "batch_size=25\n",
        "epochs=5\n",
        "files='/content/val.tfrecords'\n",
        "dataset=tf.data.TFRecordDataset(filenames=files)\n",
        "dataset = dataset.map(convert_back)\n",
        "for i,l in dataset.take(1):\n",
        "  i=tf.image.resize(i,[512,512])\n",
        "  print(i,l)\n"
      ],
      "execution_count": 0,
      "outputs": [
        {
          "output_type": "stream",
          "text": [
            "tf.Tensor(\n",
            "[[[ 72.15234   75.15234   56.152344]\n",
            "  [ 80.96875   79.96875   61.96875 ]\n",
            "  [ 80.072266  77.072266  60.072266]\n",
            "  ...\n",
            "  [ 81.21875   89.21875   76.21875 ]\n",
            "  [ 82.66992   90.66992   77.66992 ]\n",
            "  [ 79.87695   87.87695   74.87695 ]]\n",
            "\n",
            " [[ 70.38086   73.38086   54.38086 ]\n",
            "  [ 74.3125    73.3125    55.3125  ]\n",
            "  [ 76.9082    73.9082    56.908203]\n",
            "  ...\n",
            "  [ 74.34375   82.34375   69.34375 ]\n",
            "  [ 76.6875    84.6875    71.6875  ]\n",
            "  [ 82.5       90.5       77.5     ]]\n",
            "\n",
            " [[ 69.03125   70.03125   54.03125 ]\n",
            "  [ 72.4082    73.4082    57.408203]\n",
            "  [ 69.80859   70.80859   54.808594]\n",
            "  ...\n",
            "  [ 78.56641   86.56641   75.56641 ]\n",
            "  [ 80.875     88.875     77.875   ]\n",
            "  [ 73.28125   81.28125   70.28125 ]]\n",
            "\n",
            " ...\n",
            "\n",
            " [[136.97852  136.97852  128.97852 ]\n",
            "  [142.6543   142.6543   134.6543  ]\n",
            "  [134.71875  134.71875  126.71875 ]\n",
            "  ...\n",
            "  [157.86523  158.86523  150.86523 ]\n",
            "  [153.15625  154.15625  146.15625 ]\n",
            "  [150.04102  151.04102  143.04102 ]]\n",
            "\n",
            " [[141.30078  138.30078  131.30078 ]\n",
            "  [139.92383  136.92383  129.92383 ]\n",
            "  [139.78125  136.78125  129.78125 ]\n",
            "  ...\n",
            "  [159.9336   160.9336   152.9336  ]\n",
            "  [155.13867  157.13867  144.13867 ]\n",
            "  [161.03711  163.03711  149.03711 ]]\n",
            "\n",
            " [[142.875    139.875    132.875   ]\n",
            "  [140.09375  137.09375  130.09375 ]\n",
            "  [140.94727  137.94727  130.94727 ]\n",
            "  ...\n",
            "  [160.24023  161.24023  153.24023 ]\n",
            "  [143.27539  145.27539  132.27539 ]\n",
            "  [126.90234  128.90234  114.90234 ]]], shape=(512, 512, 3), dtype=float32) tf.Tensor([[ 24.547945  187.13846    23.452055   11.2615385   1.       ]], shape=(1, 5), dtype=float32)\n"
          ],
          "name": "stdout"
        }
      ]
    },
    {
      "cell_type": "code",
      "metadata": {
        "id": "w_AS08nxlhYf",
        "colab_type": "code",
        "colab": {}
      },
      "source": [
        "batch_size=64\n",
        "epochs=5\n",
        "def data_gen(files):\n",
        "  dataset=tf.data.TFRecordDataset(filenames=files)\n",
        "  dataset = dataset.map(convert_back)\n",
        "  dataset = dataset.shuffle(10000)\n",
        "  dataset = dataset.batch(batch_size)\n",
        "  dataset = dataset.repeat(epochs)\n",
        "  return dataset\n",
        "files='/content/test.tfrecords'"
      ],
      "execution_count": 0,
      "outputs": []
    },
    {
      "cell_type": "markdown",
      "metadata": {
        "id": "81Du91we3gXz",
        "colab_type": "text"
      },
      "source": [
        "#### Convert ground truth x,y,w,h to x1,y1,x2,y2"
      ]
    },
    {
      "cell_type": "code",
      "metadata": {
        "id": "0aGKIfAsh3Fv",
        "colab_type": "code",
        "colab": {}
      },
      "source": [
        "def convert_format(out,format):\n",
        "  if format=='x1y1x2y2':\n",
        "    return np.stack([out[...,0]-out[...,2]/2.0,\n",
        "    out[...,0]+out[...,2]/2.0,\n",
        "    out[...,1]-out[...,3]/2.0,\n",
        "    out[...,1]+out[...,3]/2.0],axis=1)\n",
        "  if format=='xywh':\n",
        "    return np.stack([(out[...,0]+out[...,2])/2.0,\n",
        "    (out[...,1]+out[...,3])/2.0,\n",
        "    out[...,2]-out[...,0],\n",
        "    out[...,3]+out[...,1]],axis=1)"
      ],
      "execution_count": 0,
      "outputs": []
    },
    {
      "cell_type": "code",
      "metadata": {
        "id": "OB-uJnLn3pJU",
        "colab_type": "code",
        "colab": {}
      },
      "source": [
        "#Show img\n",
        "def show_img(img,label):\n",
        "  img=cv2.imread(img)\n",
        "  color=(255,0,0)\n",
        "  img=cv2.resize(img,(hImage,wImage))\n",
        "  for i,val in enumerate(label):\n",
        "    start=tuple(np.array(label[i][:2]).astype('int'))\n",
        "    end=tuple(np.array(label[i][2:4]).astype('int'))\n",
        "    font = cv2.FONT_HERSHEY_SIMPLEX  \n",
        "    fontScale = 1\n",
        "    color = (255, 0, 0) \n",
        "    thickness = 2\n",
        "    cv2.rectangle(img,start,end,color,2)\n",
        "  cv2_imshow(img)\n",
        "img='/content/SKU110K_fixed/images/test_1.jpg'\n",
        "label=annotate_data.loc['test_1.jpg']['boxes_x1y1x2y2']\n",
        "show_img(img,label)"
      ],
      "execution_count": 0,
      "outputs": []
    },
    {
      "cell_type": "code",
      "metadata": {
        "id": "Lb62FxHb6D1N",
        "colab_type": "code",
        "outputId": "f5ce7d36-db00-4f05-8688-a9aa333dec20",
        "colab": {
          "base_uri": "https://localhost:8080/",
          "height": 231
        }
      },
      "source": [
        "data_kmeans=annotate_data[['w','h']]\n",
        "data_kmeans['w_relative']=data_kmeans[['w']]/wImage\n",
        "data_kmeans['h_relative']=data_kmeans[['h']]/hImage\n",
        "data_kmeans['wh']=data_kmeans[[\"w_relative\", \"h_relative\"]].max(axis=1)\n",
        "#data_kmeans['wh'] = data_kmeans.max_w * data_kmeans.max_h\n",
        "data_kmeans['wh_sqrt']=np.sqrt(data_kmeans['wh'])\n",
        "\n",
        "model = KMeans(\n",
        "    n_clusters=7, init='random',\n",
        "    n_init=10, max_iter=300, \n",
        "    tol=1e-04, random_state=0)\n",
        "y_km = model.fit(data_kmeans[['wh_sqrt']])\n",
        "\n",
        "centroids = model.cluster_centers_\n",
        "print(centroids)\n"
      ],
      "execution_count": 0,
      "outputs": [
        {
          "output_type": "error",
          "ename": "NameError",
          "evalue": "ignored",
          "traceback": [
            "\u001b[0;31m---------------------------------------------------------------------------\u001b[0m",
            "\u001b[0;31mNameError\u001b[0m                                 Traceback (most recent call last)",
            "\u001b[0;32m<ipython-input-3-f815e921dd0e>\u001b[0m in \u001b[0;36m<module>\u001b[0;34m()\u001b[0m\n\u001b[0;32m----> 1\u001b[0;31m \u001b[0mdata_kmeans\u001b[0m\u001b[0;34m=\u001b[0m\u001b[0mannotate_data\u001b[0m\u001b[0;34m[\u001b[0m\u001b[0;34m[\u001b[0m\u001b[0;34m'w'\u001b[0m\u001b[0;34m,\u001b[0m\u001b[0;34m'h'\u001b[0m\u001b[0;34m]\u001b[0m\u001b[0;34m]\u001b[0m\u001b[0;34m\u001b[0m\u001b[0;34m\u001b[0m\u001b[0m\n\u001b[0m\u001b[1;32m      2\u001b[0m \u001b[0mdata_kmeans\u001b[0m\u001b[0;34m[\u001b[0m\u001b[0;34m'w_relative'\u001b[0m\u001b[0;34m]\u001b[0m\u001b[0;34m=\u001b[0m\u001b[0mdata_kmeans\u001b[0m\u001b[0;34m[\u001b[0m\u001b[0;34m[\u001b[0m\u001b[0;34m'w'\u001b[0m\u001b[0;34m]\u001b[0m\u001b[0;34m]\u001b[0m\u001b[0;34m/\u001b[0m\u001b[0mwImage\u001b[0m\u001b[0;34m\u001b[0m\u001b[0;34m\u001b[0m\u001b[0m\n\u001b[1;32m      3\u001b[0m \u001b[0mdata_kmeans\u001b[0m\u001b[0;34m[\u001b[0m\u001b[0;34m'h_relative'\u001b[0m\u001b[0;34m]\u001b[0m\u001b[0;34m=\u001b[0m\u001b[0mdata_kmeans\u001b[0m\u001b[0;34m[\u001b[0m\u001b[0;34m[\u001b[0m\u001b[0;34m'h'\u001b[0m\u001b[0;34m]\u001b[0m\u001b[0;34m]\u001b[0m\u001b[0;34m/\u001b[0m\u001b[0mhImage\u001b[0m\u001b[0;34m\u001b[0m\u001b[0;34m\u001b[0m\u001b[0m\n\u001b[1;32m      4\u001b[0m \u001b[0mdata_kmeans\u001b[0m\u001b[0;34m[\u001b[0m\u001b[0;34m'wh'\u001b[0m\u001b[0;34m]\u001b[0m\u001b[0;34m=\u001b[0m\u001b[0mdata_kmeans\u001b[0m\u001b[0;34m[\u001b[0m\u001b[0;34m[\u001b[0m\u001b[0;34m\"w_relative\"\u001b[0m\u001b[0;34m,\u001b[0m \u001b[0;34m\"h_relative\"\u001b[0m\u001b[0;34m]\u001b[0m\u001b[0;34m]\u001b[0m\u001b[0;34m.\u001b[0m\u001b[0mmax\u001b[0m\u001b[0;34m(\u001b[0m\u001b[0maxis\u001b[0m\u001b[0;34m=\u001b[0m\u001b[0;36m1\u001b[0m\u001b[0;34m)\u001b[0m\u001b[0;34m\u001b[0m\u001b[0;34m\u001b[0m\u001b[0m\n\u001b[1;32m      5\u001b[0m \u001b[0;31m#data_kmeans['wh'] = data_kmeans.max_w * data_kmeans.max_h\u001b[0m\u001b[0;34m\u001b[0m\u001b[0;34m\u001b[0m\u001b[0;34m\u001b[0m\u001b[0m\n",
            "\u001b[0;31mNameError\u001b[0m: name 'annotate_data' is not defined"
          ]
        }
      ]
    },
    {
      "cell_type": "markdown",
      "metadata": {
        "id": "hlsYvs-w5_c-",
        "colab_type": "text"
      },
      "source": [
        "### Creating default boxes"
      ]
    },
    {
      "cell_type": "code",
      "metadata": {
        "id": "K6fETKNpPzKt",
        "colab_type": "code",
        "colab": {}
      },
      "source": [
        "def create_df_box(feature_layers):\n",
        "  '''\n",
        "  #CREATING SCALE\n",
        "  #Scale of default boxes for each feature layer are computed by \n",
        "  #s_min+(s_max-s_min)/(m-1)*(k-1)\n",
        "  s_min=0.03\n",
        "  s_max=0.32\n",
        "  #No. of feature layer\n",
        "  m=6\n",
        "  scale=[]\n",
        "\n",
        "  #Range starting from 2 because we are starting from feature layer 2\n",
        "  for k in range(2,6):\n",
        "    sk=s_min+(s_max-s_min)/(m-1)*(k-1)\n",
        "    scale.append(sk)\n",
        "  scale.insert(0,s_min)\n",
        "  scale.extend([s_max])\n",
        "  '''\n",
        "  scale = [0.03, 0.05, 0.08, 0.12, 0.15, 0.25, 0.35]\n",
        "  aspect_ratios= [0.416, 0.553, 0.722, 1.401, 3.131]\n",
        "  feature_boxes=[]\n",
        "  for feature_layer in feature_layers:\n",
        "    #Computing w and h\n",
        "    '''\n",
        "    if feature_layer==38 or feature_layer==3\\\n",
        "     or feature_layer==1:\n",
        "      aspect_ratios=[1,2,1/2]\n",
        "    else:\n",
        "      aspect_ratios=[1,2,3,1/2,1/3]\n",
        "    '''\n",
        "    w_ar=[]\n",
        "    h_ar=[]\n",
        "    for i in aspect_ratios:\n",
        "      if i==1:\n",
        "        w=scale[aspect_ratios.index(i)]*np.sqrt(i)\n",
        "        h=scale[aspect_ratios.index(i)]/np.sqrt(i)\n",
        "        w_ar.append(w)\n",
        "        h_ar.append(h)\n",
        "        sk_1=np.sqrt(scale[aspect_ratios.index(i)]* \\\n",
        "                     scale[aspect_ratios.index(i)+1])\n",
        "        w=sk_1*np.sqrt(i)\n",
        "        h=sk_1/np.sqrt(i)\n",
        "      else:\n",
        "        w=scale[aspect_ratios.index(i)]*np.sqrt(i)\n",
        "        h=scale[aspect_ratios.index(i)]/np.sqrt(i)\n",
        "      w_ar.append(w)\n",
        "      h_ar.append(h)\n",
        "    #Computing x and y    \n",
        "    x_axis=np.linspace(0,feature_layer,feature_layer+1)\n",
        "    y_axis=np.linspace(0,feature_layer,feature_layer+1)\n",
        "    xx,yy=np.meshgrid(x_axis,y_axis)\n",
        "    x=[(i+0.5)/(feature_layer) for i in xx[:-1,:-1]]\n",
        "    y=[(i+0.5)/(feature_layer) for i in yy[:-1,:-1]]\n",
        "    '''\n",
        "    if feature_layer==38 or feature_layer==3 or\\\n",
        "     feature_layer==1:\n",
        "      ndf_box=4\n",
        "    else:\n",
        "      ndf_box=6\n",
        "    '''\n",
        "    ndf_box=5\n",
        "    ndf_boxes=feature_layer*feature_layer*ndf_box\n",
        "    nbox_coordinates=4\n",
        "    feature_box=np.zeros((ndf_boxes,nbox_coordinates))\n",
        "    #x would be 38*38 center for every df box\n",
        "    x=np.array(x).reshape(feature_layer*feature_layer)\n",
        "    #We have the same center for 4 default boxes \n",
        "    x=np.repeat(x,ndf_box)\n",
        "    y=np.array(y).reshape(feature_layer*feature_layer)\n",
        "    y=np.repeat(y,ndf_box)\n",
        "\n",
        "    #W would be 4*1 or 6*1 based on aspect ratio   \n",
        "    w_ar=np.tile(w_ar,feature_layer*feature_layer)\n",
        "    h_ar=np.tile(h_ar,feature_layer*feature_layer)\n",
        "    feature_box[:,0]=x\n",
        "    feature_box[:,1]=y\n",
        "    feature_box[:,2]=w_ar\n",
        "    feature_box[:,3]=h_ar\n",
        "    feature_boxes.append(feature_box)\n",
        "  feature_box=np.concatenate([i for i in feature_boxes],axis=0)\n",
        "  return feature_box"
      ],
      "execution_count": 0,
      "outputs": []
    },
    {
      "cell_type": "code",
      "metadata": {
        "id": "7joftSP71WUd",
        "colab_type": "code",
        "outputId": "18b98cf7-a261-4575-dd37-2c3333b62383",
        "colab": {
          "base_uri": "https://localhost:8080/",
          "height": 197
        }
      },
      "source": [
        "feature_layers=[64,32,16,8,6,4]\n",
        "feature_layers=create_df_box(feature_layers)\n",
        "feature_layers.shape"
      ],
      "execution_count": 0,
      "outputs": [
        {
          "output_type": "error",
          "ename": "NameError",
          "evalue": "ignored",
          "traceback": [
            "\u001b[0;31m---------------------------------------------------------------------------\u001b[0m",
            "\u001b[0;31mNameError\u001b[0m                                 Traceback (most recent call last)",
            "\u001b[0;32m<ipython-input-4-7bc6a6779038>\u001b[0m in \u001b[0;36m<module>\u001b[0;34m()\u001b[0m\n\u001b[1;32m      1\u001b[0m \u001b[0mfeature_layers\u001b[0m\u001b[0;34m=\u001b[0m\u001b[0;34m[\u001b[0m\u001b[0;36m64\u001b[0m\u001b[0;34m,\u001b[0m\u001b[0;36m32\u001b[0m\u001b[0;34m,\u001b[0m\u001b[0;36m16\u001b[0m\u001b[0;34m,\u001b[0m\u001b[0;36m8\u001b[0m\u001b[0;34m,\u001b[0m\u001b[0;36m6\u001b[0m\u001b[0;34m,\u001b[0m\u001b[0;36m4\u001b[0m\u001b[0;34m]\u001b[0m\u001b[0;34m\u001b[0m\u001b[0;34m\u001b[0m\u001b[0m\n\u001b[0;32m----> 2\u001b[0;31m \u001b[0mfeature_layers\u001b[0m\u001b[0;34m=\u001b[0m\u001b[0mcreate_df_box\u001b[0m\u001b[0;34m(\u001b[0m\u001b[0mfeature_layers\u001b[0m\u001b[0;34m)\u001b[0m\u001b[0;34m\u001b[0m\u001b[0;34m\u001b[0m\u001b[0m\n\u001b[0m\u001b[1;32m      3\u001b[0m \u001b[0mfeature_layers\u001b[0m\u001b[0;34m.\u001b[0m\u001b[0mshape\u001b[0m\u001b[0;34m\u001b[0m\u001b[0;34m\u001b[0m\u001b[0m\n",
            "\u001b[0;31mNameError\u001b[0m: name 'create_df_box' is not defined"
          ]
        }
      ]
    },
    {
      "cell_type": "markdown",
      "metadata": {
        "id": "Ub9I1K1T6aIr",
        "colab_type": "text"
      },
      "source": [
        "#### Converting Relative co-ordinates to absolute co-ordinates "
      ]
    },
    {
      "cell_type": "code",
      "metadata": {
        "id": "iNC2eF3tO-J0",
        "colab_type": "code",
        "outputId": "8bd50df3-b4c1-4edd-e2a1-f9435ab9488e",
        "colab": {
          "base_uri": "https://localhost:8080/",
          "height": 197
        }
      },
      "source": [
        "def rel_to_abs(matrix):\n",
        "  return np.stack([matrix[:,0]*wImage,\n",
        "  matrix[:,1]*hImage,\n",
        "  matrix[:,2]*wImage,\n",
        "  matrix[:,3]*hImage],axis=1)\n",
        "label1=rel_to_abs(np.array(label))"
      ],
      "execution_count": 0,
      "outputs": [
        {
          "output_type": "error",
          "ename": "NameError",
          "evalue": "ignored",
          "traceback": [
            "\u001b[0;31m---------------------------------------------------------------------------\u001b[0m",
            "\u001b[0;31mNameError\u001b[0m                                 Traceback (most recent call last)",
            "\u001b[0;32m<ipython-input-5-ed7ca2a66687>\u001b[0m in \u001b[0;36m<module>\u001b[0;34m()\u001b[0m\n\u001b[1;32m      4\u001b[0m   \u001b[0mmatrix\u001b[0m\u001b[0;34m[\u001b[0m\u001b[0;34m:\u001b[0m\u001b[0;34m,\u001b[0m\u001b[0;36m2\u001b[0m\u001b[0;34m]\u001b[0m\u001b[0;34m*\u001b[0m\u001b[0mwImage\u001b[0m\u001b[0;34m,\u001b[0m\u001b[0;34m\u001b[0m\u001b[0;34m\u001b[0m\u001b[0m\n\u001b[1;32m      5\u001b[0m   matrix[:,3]*hImage],axis=1)\n\u001b[0;32m----> 6\u001b[0;31m \u001b[0mlabel1\u001b[0m\u001b[0;34m=\u001b[0m\u001b[0mrel_to_abs\u001b[0m\u001b[0;34m(\u001b[0m\u001b[0mnp\u001b[0m\u001b[0;34m.\u001b[0m\u001b[0marray\u001b[0m\u001b[0;34m(\u001b[0m\u001b[0mlabel\u001b[0m\u001b[0;34m)\u001b[0m\u001b[0;34m)\u001b[0m\u001b[0;34m\u001b[0m\u001b[0;34m\u001b[0m\u001b[0m\n\u001b[0m",
            "\u001b[0;31mNameError\u001b[0m: name 'label' is not defined"
          ]
        }
      ]
    },
    {
      "cell_type": "markdown",
      "metadata": {
        "id": "e0zqwK777gK9",
        "colab_type": "text"
      },
      "source": [
        "#### IOU b/w two boxes"
      ]
    },
    {
      "cell_type": "code",
      "metadata": {
        "id": "BT92xN9TeDhg",
        "colab_type": "code",
        "colab": {}
      },
      "source": [
        "def iou(box1,box2):\n",
        "  x1=np.maximum(box1[...,0],box2[...,0])\n",
        "  y1=np.maximum(box1[...,1],box2[...,1])\n",
        "  x2=np.minimum(box1[...,2],box2[...,2])\n",
        "  y2=np.minimum(box1[...,3],box2[...,3])\n",
        "  #Intersection area\n",
        "  intersectionArea=(x2[:]-x1[:])*(y2[:]-y1[:])\n",
        "  \n",
        "  #Union area\n",
        "  box1Area=(box1[...,2]-box1[...,0])*\\\n",
        "  (box1[...,3]-box1[...,1])\n",
        "  box2Area=(box2[...,2]-box2[...,0])*\\\n",
        "  (box2[...,3]-box2[...,1])\n",
        "  unionArea=box1Area+box2Area-intersectionArea\n",
        "  iou=intersectionArea/unionArea\n",
        "  return iou\n"
      ],
      "execution_count": 0,
      "outputs": []
    },
    {
      "cell_type": "code",
      "metadata": {
        "id": "t5aaOP4WSc5u",
        "colab_type": "code",
        "colab": {}
      },
      "source": [
        "feature_layers=[64,32,16,8,6,4]\n",
        "feature_box=create_df_box(feature_layers)\n",
        "feature_box=rel_to_abs(feature_box)\n",
        "feature_box_conv=convert_format(feature_box\\\n",
        "                                ,'x1y1x2y2')\n",
        "gt_box_conv=convert_format(np.array(label)\\\n",
        "                           ,'x1y1x2y2')\n",
        "iou_matrix=iou(np.expand_dims(feature_box_conv,axis=1),gt_box_conv)"
      ],
      "execution_count": 0,
      "outputs": []
    },
    {
      "cell_type": "markdown",
      "metadata": {
        "id": "d5vUG_bB7k6w",
        "colab_type": "text"
      },
      "source": [
        "### Matching statergy\n"
      ]
    },
    {
      "cell_type": "code",
      "metadata": {
        "id": "VhsOtV1uT26M",
        "colab_type": "code",
        "colab": {}
      },
      "source": [
        "def df_match(labels,iou_matrix):\n",
        "  #No. of ground truth labels\n",
        "  max_values=np.max(iou_matrix,axis=1)\n",
        "  max_idx=np.argmax(iou_matrix,axis=1)\n",
        "  matched=np.greater_equal(max_values,0.5)\n",
        "  gt_box=tf.gather(np.array(labels)[...,:4],max_idx)\n",
        "  return gt_box,matched\n",
        "gt_box,matched=df_match\\\n",
        "(np.array(label),iou_matrix)"
      ],
      "execution_count": 0,
      "outputs": []
    },
    {
      "cell_type": "code",
      "metadata": {
        "id": "sqfamozhYO1c",
        "colab_type": "code",
        "outputId": "e31c2866-7141-4ed3-c3bf-ab300e51e1d0",
        "colab": {
          "base_uri": "https://localhost:8080/",
          "height": 34
        }
      },
      "source": [
        "gt_box.shape"
      ],
      "execution_count": 0,
      "outputs": [
        {
          "output_type": "execute_result",
          "data": {
            "text/plain": [
              "TensorShape([27460, 4])"
            ]
          },
          "metadata": {
            "tags": []
          },
          "execution_count": 102
        }
      ]
    },
    {
      "cell_type": "code",
      "metadata": {
        "id": "4g1b8rh8k62R",
        "colab_type": "code",
        "colab": {}
      },
      "source": [
        "nClasses=1\n",
        "#Class encoding matched with default boxes\n",
        "def class_df_encode(out,iou_matrix):\n",
        "  max_values=np.max(iou_matrix,axis=1)\n",
        "  max_idx=np.argmax(iou_matrix,axis=1)  \n",
        "  #0 For Background class \n",
        "  matched=np.greater_equal(max_values,0.5)\n",
        "  cls_df=tf.gather(np.array(out)[:,4:],max_idx)\n",
        "  cls=np.array(matched*cls_df)  \n",
        "  dfclass=(tf.one_hot(cls[:,nClasses],depth=nClasses+1))\n",
        "  return dfclass"
      ],
      "execution_count": 0,
      "outputs": []
    },
    {
      "cell_type": "code",
      "metadata": {
        "id": "YXLJCqUGswxk",
        "colab_type": "code",
        "outputId": "2a6a4873-42cc-4638-ca82-590f075dfbd9",
        "colab": {
          "base_uri": "https://localhost:8080/",
          "height": 34
        }
      },
      "source": [
        "dfclass=class_df_encode(np.array(label),iou_matrix)\n",
        "dfclass.shape"
      ],
      "execution_count": 0,
      "outputs": [
        {
          "output_type": "execute_result",
          "data": {
            "text/plain": [
              "TensorShape([27460, 2])"
            ]
          },
          "metadata": {
            "tags": []
          },
          "execution_count": 104
        }
      ]
    },
    {
      "cell_type": "markdown",
      "metadata": {
        "id": "IEI8onRNZIBy",
        "colab_type": "text"
      },
      "source": [
        "### Matched Boxes "
      ]
    },
    {
      "cell_type": "code",
      "metadata": {
        "id": "US4NQwZF0o4w",
        "colab_type": "code",
        "outputId": "29934af6-7573-442a-de8d-f7b1feffc172",
        "colab": {
          "base_uri": "https://localhost:8080/",
          "height": 529
        }
      },
      "source": [
        "wImage,hImage=512,512\n",
        "#Here x1,y1,x2,y2\n",
        "def pre_process_img(img,df_matrix,matched):\n",
        "  img=cv2.imread(img)\n",
        "  img = cv2.resize(img, (hImage,wImage), \\\n",
        "                   interpolation = cv2.INTER_AREA)\n",
        "  color=(255,0,0)\n",
        "  matched_idx=[i for i,val in \\\n",
        "               enumerate(matched) if val]\n",
        "  for i in (matched_idx):\n",
        "    start=feature_box_conv[i,:2]\n",
        "    start=start.astype('int')\n",
        "    end=feature_box_conv[i,2:]\n",
        "    end=end.astype('int')\n",
        "    start=tuple((start))\n",
        "    end=tuple((end))\n",
        "    cv2.rectangle(img,start,end,color,2)\n",
        "  cv2_imshow(img)\n",
        "  \n",
        "pre_process_img('/content/SKU110K_fixed/images/test_1.jpg',feature_box,matched)"
      ],
      "execution_count": 0,
      "outputs": [
        {
          "output_type": "display_data",
          "data": {
            "image/png": "[encoded data removed]",
            "text/plain": [
              "<PIL.Image.Image image mode=RGB size=512x512 at 0x7F6192F066A0>"
            ]
          },
          "metadata": {
            "tags": []
          }
        }
      ]
    },
    {
      "cell_type": "markdown",
      "metadata": {
        "id": "GXnc6h_uYqWZ",
        "colab_type": "text"
      },
      "source": [
        "### Normalizing Ground Truth"
      ]
    },
    {
      "cell_type": "code",
      "metadata": {
        "id": "SYlGlLt0Yn1-",
        "colab_type": "code",
        "colab": {}
      },
      "source": [
        "def normalised_gt(matched_boxes,feature_box):\n",
        "  return np.stack([\n",
        "  (matched_boxes[:,0]-feature_box[:,0])/feature_box[:,0],\n",
        "  (matched_boxes[:,1]-feature_box[:,1])/feature_box[:,1],\n",
        "  np.log(matched_boxes[:,2]/feature_box[:,2]),\n",
        "  np.log(matched_boxes[:,3]/feature_box[:,3])],axis=-1)\n"
      ],
      "execution_count": 0,
      "outputs": []
    },
    {
      "cell_type": "code",
      "metadata": {
        "id": "6d6LtoLBHCTc",
        "colab_type": "code",
        "colab": {}
      },
      "source": [
        "#Data Generator\n",
        "batch_size=1\n",
        "epochs=1\n",
        "feature_layers=[64,32,16,8,6,4]\n",
        "feature_box=create_df_box(feature_layers)\n",
        "feature_box=rel_to_abs(feature_box)\n",
        "feature_box_conv=np.zeros_like(feature_box)\n",
        "feature_box_conv=convert_format(np.array(feature_box),'x1y1x2y2')\n",
        "\n",
        "def dataGen(annotate_data,batchSize,epochs,feature_box,feature_box_conv):\n",
        "  for j in range(0,epochs):\n",
        "    for k in range(0, len(annotate_data)//batchSize):\n",
        "      batchX=[]\n",
        "      batchY=[]\n",
        "      index=np.random.randint(0,len(annotate_data),batchSize)\n",
        "      for i in index:\n",
        "        img_path='/content/SKU110K_fixed/images/'\n",
        "        img=img_path+str(annotate_data.iloc[i].name)\n",
        "        label=annotate_data.iloc[i]['boxes_xywh']\n",
        "        img=read_img(img)\n",
        "        gt_box_conv=convert_format(np.array(label)[:,:4],'x1y1x2y2')\n",
        "        iou_matrix=iou(np.expand_dims(feature_box_conv,axis=1),(gt_box_conv))\n",
        "        max_idx,matched=df_match(label,iou_matrix)\n",
        "        dfclass=class_df_encode(label,iou_matrix)\n",
        "        normalised_gtbox=normalised_gt(gt_box,feature_box)\n",
        "        normalised_gtbox_abs=rel_to_abs(normalised_gtbox)\n",
        "        df_box=np.concatenate((normalised_gtbox_abs,dfclass),axis=1)\n",
        "        batchX.append(img)\n",
        "        batchY.append(df_box)\n",
        "      yield np.array(batchX),np.array(batchY)\n",
        "trainGen=dataGen(annotate_data,batch_size,epochs,feature_box,feature_box_conv)"
      ],
      "execution_count": 0,
      "outputs": []
    },
    {
      "cell_type": "code",
      "metadata": {
        "id": "C5FoQsBjkIWS",
        "colab_type": "code",
        "colab": {}
      },
      "source": [
        "img_list=[]\n",
        "for i in os.listdir('/content/SKU110K_fixed/images'):\n",
        "  img_list.append(i)\n",
        "b=set(annotate_data.index)-set(img_list)\n",
        "annotate_data.drop(b,inplace=True)\n"
      ],
      "execution_count": 0,
      "outputs": []
    },
    {
      "cell_type": "markdown",
      "metadata": {
        "id": "r4XwdA61s8Fz",
        "colab_type": "text"
      },
      "source": [
        "### Loss"
      ]
    },
    {
      "cell_type": "code",
      "metadata": {
        "id": "qJRpF2vxdjof",
        "colab_type": "code",
        "colab": {}
      },
      "source": [
        "def total_loss(y_true,y_pred):\n",
        "  y_true=tf.cast(y_true,dtype=tf.float32)\n",
        "  y_pred=tf.cast(y_pred,dtype=tf.float32)\n",
        "  pos_mask=tf.equal(y_true[:,:,-4:-3],0.0)\n",
        "  num_pos=tf.math.count_nonzero(pos_mask)\n",
        "  loc_loss=(tf.compat.v1.losses.huber_loss\n",
        "            (y_true[:,:,:4], y_pred[:,:,:4]))\n",
        "  cce = tf.losses.CategoricalCrossentropy()\n",
        "  cross_entropy=cce(y_true[:,:,-4:],y_pred[:,:,-4:])\n",
        "  #neg:pos 3:1\n",
        "  num_neg=3*num_pos\n",
        "  #Negative Mining\n",
        "  neg_cross_entropy=tf.where(tf.not_equal\\\n",
        "                             (pos_mask,1.0),cross_entropy,0.0)\n",
        "  sorted_dfidx=tf.argsort(neg_cross_entropy,\\\n",
        "                          direction='DESCENDING',axis=1)\n",
        "  rank=tf.argsort(sorted_dfidx,axis=1)\n",
        "  neg_loss=tf.where((rank)<num_neg,neg_cross_entropy,0.0)\n",
        "  pos_loss=tf.where(tf.equal(pos_mask,1.0),cross_entropy,0.0)\n",
        "  pos_loss=tf.reduce_sum(pos_loss,axis=1)\n",
        "  clas_loss=tf.reduce_sum(pos_loss+neg_loss)\n",
        "  totalloss=tf.math.divide_no_nan(\n",
        "    (loc_loss+clas_loss),num_pos , name='Total_loss')\n",
        "  return totalloss\n"
      ],
      "execution_count": 0,
      "outputs": []
    },
    {
      "cell_type": "code",
      "metadata": {
        "id": "ZN3TDoALlxXa",
        "colab_type": "code",
        "outputId": "c187f92c-96e9-473a-8b89-78ac3dcceefe",
        "colab": {
          "base_uri": "https://localhost:8080/",
          "height": 1000
        }
      },
      "source": [
        "nClasses=1\n",
        "import tensorflow as tf\n",
        "def conv_layer(filter,kernel_size,\n",
        "               layer,strides=1,\n",
        "               padding='same',\n",
        "               activation='relu',pool=False,\n",
        "               poolsize=2,poolstride=2,conv=True):\n",
        "  if conv == True:\n",
        "      layer=tf.keras.layers.Conv2D(filters=filter,\n",
        "                                  kernel_size=kernel_size,\n",
        "                                  strides=strides,\n",
        "                                  activation=activation,\n",
        "                                  padding=padding)(layer)\n",
        "  if pool == True:\n",
        "    layer=tf.keras.layers.MaxPool2D(pool_size=(poolsize,poolsize),\n",
        "                                    strides=poolstride,padding='same')(layer)\n",
        "  return layer\n",
        "\n",
        "\n",
        "inputs=tf.keras.layers.Input(shape=(512,512,3))\n",
        "\n",
        "#vgg16 was trained on 224,224,3 size images, so creating it for 300,300,3\n",
        "#In pool 5 we pass stride = 1 and pool size =2\n",
        "#No dropout used\n",
        "outputs=[]\n",
        "\n",
        "#Feature layer 1 - 38*38*512\n",
        "layer = conv_layer(64, 3, inputs)\n",
        "layer = conv_layer(64, 3, layer,pool=True)\n",
        "layer = conv_layer(128, 3, layer)\n",
        "layer = conv_layer(128, 3, layer, pool=True)\n",
        "layer = conv_layer(256, 3, layer)\n",
        "layer = conv_layer(256, 3, layer)\n",
        "layer = conv_layer(256, 3, layer, pool=True)\n",
        "layer = conv_layer(512, 3, layer)\n",
        "layer = conv_layer(512, 3, layer)\n",
        "layer = conv_layer(512, 3, layer)\n",
        "\n",
        "output=conv_layer(4*(4+nClasses+1),3,layer)\n",
        "print(output)\n",
        "output = tf.keras.layers.Reshape([-1, 4+nClasses+1])(output)\n",
        "outputs.append(output)\n",
        "\n",
        "#Feature layer 2 19*19*1024\n",
        "layer = conv_layer(512, 3, layer,pool=True,conv=False)\n",
        "layer = conv_layer(512, 3, layer)\n",
        "layer = conv_layer(512, 3, layer)\n",
        "layer = conv_layer(512, 3 , layer,pool=True, poolsize=3, poolstride=1)\n",
        "layer = conv_layer(1024, 3, layer)\n",
        "layer = conv_layer(1024, 1, layer)\n",
        "\n",
        "output=conv_layer(6*(4+nClasses+1),3,layer)\n",
        "print(output)\n",
        "output = tf.keras.layers.Reshape([-1, 4+nClasses+1])(output)\n",
        "outputs.append(output)\n",
        "\n",
        "#Extra Feature Layers\n",
        "\n",
        "#Feature Layer 3 10*10*512\n",
        "layer = conv_layer(256, 1, layer)\n",
        "layer = conv_layer(512, 3, layer, strides=2)\n",
        "output=conv_layer(6*(4+nClasses+1),3,layer)\n",
        "print(output)\n",
        "output = tf.keras.layers.Reshape([-1, 4+nClasses+1])(output)\n",
        "outputs.append(output)\n",
        "\n",
        "#Feature Layer 4 5*5*256\n",
        "layer = conv_layer(128, 1, layer)\n",
        "layer = conv_layer(256, 3, layer, strides=2)\n",
        "output=conv_layer(6*(4+nClasses+1),3,layer)\n",
        "print(output)\n",
        "output = tf.keras.layers.Reshape([-1, 4+nClasses+1])(output)\n",
        "outputs.append(output)\n",
        "\n",
        "#Feature Layer 4 3*3*256\n",
        "layer = conv_layer(128, 1, layer,padding= 'valid')\n",
        "layer = conv_layer(256, 3, layer,padding= 'valid')\n",
        "output=conv_layer(4*(4+nClasses+1),3,layer)\n",
        "print(output)\n",
        "output = tf.keras.layers.Reshape([-1, 4+nClasses+1])(output)\n",
        "outputs.append(output)\n",
        "\n",
        "#Feature Layer 4 1*1*256\n",
        "layer = conv_layer(128, 1, layer,padding= 'valid')\n",
        "layer = conv_layer(256, 3, layer,padding= 'valid')\n",
        "output=conv_layer(4*(4+nClasses+1),3,layer)\n",
        "print(output)\n",
        "output = tf.keras.layers.Reshape([-1, 4+nClasses+1])(output)\n",
        "outputs.append(output)\n",
        "\n",
        "out = tf.keras.layers.Concatenate(axis=1)(outputs)\n",
        "model=tf.keras.models.Model(inputs,out)\n",
        "\n",
        "model.summary()\n"
      ],
      "execution_count": 0,
      "outputs": [
        {
          "output_type": "stream",
          "text": [
            "Tensor(\"conv2d_97/Identity:0\", shape=(None, 64, 64, 24), dtype=float32)\n",
            "Tensor(\"conv2d_103/Identity:0\", shape=(None, 32, 32, 36), dtype=float32)\n",
            "Tensor(\"conv2d_106/Identity:0\", shape=(None, 16, 16, 36), dtype=float32)\n",
            "Tensor(\"conv2d_109/Identity:0\", shape=(None, 8, 8, 36), dtype=float32)\n",
            "Tensor(\"conv2d_112/Identity:0\", shape=(None, 6, 6, 24), dtype=float32)\n",
            "Tensor(\"conv2d_115/Identity:0\", shape=(None, 4, 4, 24), dtype=float32)\n",
            "Model: \"model_3\"\n",
            "__________________________________________________________________________________________________\n",
            "Layer (type)                    Output Shape         Param #     Connected to                     \n",
            "==================================================================================================\n",
            "input_4 (InputLayer)            [(None, 512, 512, 3) 0                                            \n",
            "__________________________________________________________________________________________________\n",
            "conv2d_87 (Conv2D)              (None, 512, 512, 64) 1792        input_4[0][0]                    \n",
            "__________________________________________________________________________________________________\n",
            "conv2d_88 (Conv2D)              (None, 512, 512, 64) 36928       conv2d_87[0][0]                  \n",
            "__________________________________________________________________________________________________\n",
            "max_pooling2d_15 (MaxPooling2D) (None, 256, 256, 64) 0           conv2d_88[0][0]                  \n",
            "__________________________________________________________________________________________________\n",
            "conv2d_89 (Conv2D)              (None, 256, 256, 128 73856       max_pooling2d_15[0][0]           \n",
            "__________________________________________________________________________________________________\n",
            "conv2d_90 (Conv2D)              (None, 256, 256, 128 147584      conv2d_89[0][0]                  \n",
            "__________________________________________________________________________________________________\n",
            "max_pooling2d_16 (MaxPooling2D) (None, 128, 128, 128 0           conv2d_90[0][0]                  \n",
            "__________________________________________________________________________________________________\n",
            "conv2d_91 (Conv2D)              (None, 128, 128, 256 295168      max_pooling2d_16[0][0]           \n",
            "__________________________________________________________________________________________________\n",
            "conv2d_92 (Conv2D)              (None, 128, 128, 256 590080      conv2d_91[0][0]                  \n",
            "__________________________________________________________________________________________________\n",
            "conv2d_93 (Conv2D)              (None, 128, 128, 256 590080      conv2d_92[0][0]                  \n",
            "__________________________________________________________________________________________________\n",
            "max_pooling2d_17 (MaxPooling2D) (None, 64, 64, 256)  0           conv2d_93[0][0]                  \n",
            "__________________________________________________________________________________________________\n",
            "conv2d_94 (Conv2D)              (None, 64, 64, 512)  1180160     max_pooling2d_17[0][0]           \n",
            "__________________________________________________________________________________________________\n",
            "conv2d_95 (Conv2D)              (None, 64, 64, 512)  2359808     conv2d_94[0][0]                  \n",
            "__________________________________________________________________________________________________\n",
            "conv2d_96 (Conv2D)              (None, 64, 64, 512)  2359808     conv2d_95[0][0]                  \n",
            "__________________________________________________________________________________________________\n",
            "max_pooling2d_18 (MaxPooling2D) (None, 32, 32, 512)  0           conv2d_96[0][0]                  \n",
            "__________________________________________________________________________________________________\n",
            "conv2d_98 (Conv2D)              (None, 32, 32, 512)  2359808     max_pooling2d_18[0][0]           \n",
            "__________________________________________________________________________________________________\n",
            "conv2d_99 (Conv2D)              (None, 32, 32, 512)  2359808     conv2d_98[0][0]                  \n",
            "__________________________________________________________________________________________________\n",
            "conv2d_100 (Conv2D)             (None, 32, 32, 512)  2359808     conv2d_99[0][0]                  \n",
            "__________________________________________________________________________________________________\n",
            "max_pooling2d_19 (MaxPooling2D) (None, 32, 32, 512)  0           conv2d_100[0][0]                 \n",
            "__________________________________________________________________________________________________\n",
            "conv2d_101 (Conv2D)             (None, 32, 32, 1024) 4719616     max_pooling2d_19[0][0]           \n",
            "__________________________________________________________________________________________________\n",
            "conv2d_102 (Conv2D)             (None, 32, 32, 1024) 1049600     conv2d_101[0][0]                 \n",
            "__________________________________________________________________________________________________\n",
            "conv2d_104 (Conv2D)             (None, 32, 32, 256)  262400      conv2d_102[0][0]                 \n",
            "__________________________________________________________________________________________________\n",
            "conv2d_105 (Conv2D)             (None, 16, 16, 512)  1180160     conv2d_104[0][0]                 \n",
            "__________________________________________________________________________________________________\n",
            "conv2d_107 (Conv2D)             (None, 16, 16, 128)  65664       conv2d_105[0][0]                 \n",
            "__________________________________________________________________________________________________\n",
            "conv2d_108 (Conv2D)             (None, 8, 8, 256)    295168      conv2d_107[0][0]                 \n",
            "__________________________________________________________________________________________________\n",
            "conv2d_110 (Conv2D)             (None, 8, 8, 128)    32896       conv2d_108[0][0]                 \n",
            "__________________________________________________________________________________________________\n",
            "conv2d_111 (Conv2D)             (None, 6, 6, 256)    295168      conv2d_110[0][0]                 \n",
            "__________________________________________________________________________________________________\n",
            "conv2d_113 (Conv2D)             (None, 6, 6, 128)    32896       conv2d_111[0][0]                 \n",
            "__________________________________________________________________________________________________\n",
            "conv2d_114 (Conv2D)             (None, 4, 4, 256)    295168      conv2d_113[0][0]                 \n",
            "__________________________________________________________________________________________________\n",
            "conv2d_97 (Conv2D)              (None, 64, 64, 24)   110616      conv2d_96[0][0]                  \n",
            "__________________________________________________________________________________________________\n",
            "conv2d_103 (Conv2D)             (None, 32, 32, 36)   331812      conv2d_102[0][0]                 \n",
            "__________________________________________________________________________________________________\n",
            "conv2d_106 (Conv2D)             (None, 16, 16, 36)   165924      conv2d_105[0][0]                 \n",
            "__________________________________________________________________________________________________\n",
            "conv2d_109 (Conv2D)             (None, 8, 8, 36)     82980       conv2d_108[0][0]                 \n",
            "__________________________________________________________________________________________________\n",
            "conv2d_112 (Conv2D)             (None, 6, 6, 24)     55320       conv2d_111[0][0]                 \n",
            "__________________________________________________________________________________________________\n",
            "conv2d_115 (Conv2D)             (None, 4, 4, 24)     55320       conv2d_114[0][0]                 \n",
            "__________________________________________________________________________________________________\n",
            "reshape_18 (Reshape)            (None, None, 6)      0           conv2d_97[0][0]                  \n",
            "__________________________________________________________________________________________________\n",
            "reshape_19 (Reshape)            (None, None, 6)      0           conv2d_103[0][0]                 \n",
            "__________________________________________________________________________________________________\n",
            "reshape_20 (Reshape)            (None, None, 6)      0           conv2d_106[0][0]                 \n",
            "__________________________________________________________________________________________________\n",
            "reshape_21 (Reshape)            (None, None, 6)      0           conv2d_109[0][0]                 \n",
            "__________________________________________________________________________________________________\n",
            "reshape_22 (Reshape)            (None, None, 6)      0           conv2d_112[0][0]                 \n",
            "__________________________________________________________________________________________________\n",
            "reshape_23 (Reshape)            (None, None, 6)      0           conv2d_115[0][0]                 \n",
            "__________________________________________________________________________________________________\n",
            "concatenate_3 (Concatenate)     (None, None, 6)      0           reshape_18[0][0]                 \n",
            "                                                                 reshape_19[0][0]                 \n",
            "                                                                 reshape_20[0][0]                 \n",
            "                                                                 reshape_21[0][0]                 \n",
            "                                                                 reshape_22[0][0]                 \n",
            "                                                                 reshape_23[0][0]                 \n",
            "==================================================================================================\n",
            "Total params: 23,745,396\n",
            "Trainable params: 23,745,396\n",
            "Non-trainable params: 0\n",
            "__________________________________________________________________________________________________\n"
          ],
          "name": "stdout"
        }
      ]
    },
    {
      "cell_type": "code",
      "metadata": {
        "id": "t7boIp8yGK9R",
        "colab_type": "code",
        "outputId": "1442d180-4996-4c0e-f242-ca49f6a8c39e",
        "colab": {
          "base_uri": "https://localhost:8080/",
          "height": 853
        }
      },
      "source": [
        "model.compile(optimizer='adam',metrics=['accuracy'],\n",
        "              loss=total_loss)\n",
        "callback=tf.keras.callbacks.ModelCheckpoint(\n",
        "        filepath=\n",
        "        'content/ssd_weights.h5',\n",
        "        monitor='total_loss',\n",
        "        save_best_only=True,\n",
        "        save_weights_only=True,\n",
        "        mode='min',\n",
        "        verbose=1)\n",
        "step_per_epoch=len(annotate_data)//batch_size\n",
        "model.fit_generator(trainGen,epochs,step_per_epoch,callbacks=callback)\n"
      ],
      "execution_count": 0,
      "outputs": [
        {
          "output_type": "stream",
          "text": [
            "WARNING:tensorflow:From <ipython-input-116-e60556380421>:12: Model.fit_generator (from tensorflow.python.keras.engine.training) is deprecated and will be removed in a future version.\n",
            "Instructions for updating:\n",
            "Please use Model.fit, which supports generators.\n",
            "Epoch 1/1493\n"
          ],
          "name": "stdout"
        },
        {
          "output_type": "error",
          "ename": "TypeError",
          "evalue": "ignored",
          "traceback": [
            "\u001b[0;31m---------------------------------------------------------------------------\u001b[0m",
            "\u001b[0;31mTypeError\u001b[0m                                 Traceback (most recent call last)",
            "\u001b[0;32m<ipython-input-116-e60556380421>\u001b[0m in \u001b[0;36m<module>\u001b[0;34m()\u001b[0m\n\u001b[1;32m     10\u001b[0m         verbose=1)\n\u001b[1;32m     11\u001b[0m \u001b[0mstep_per_epoch\u001b[0m\u001b[0;34m=\u001b[0m\u001b[0mlen\u001b[0m\u001b[0;34m(\u001b[0m\u001b[0mannotate_data\u001b[0m\u001b[0;34m)\u001b[0m\u001b[0;34m//\u001b[0m\u001b[0mbatch_size\u001b[0m\u001b[0;34m\u001b[0m\u001b[0;34m\u001b[0m\u001b[0m\n\u001b[0;32m---> 12\u001b[0;31m \u001b[0mmodel\u001b[0m\u001b[0;34m.\u001b[0m\u001b[0mfit_generator\u001b[0m\u001b[0;34m(\u001b[0m\u001b[0mtrainGen\u001b[0m\u001b[0;34m,\u001b[0m\u001b[0mepochs\u001b[0m\u001b[0;34m,\u001b[0m\u001b[0mstep_per_epoch\u001b[0m\u001b[0;34m,\u001b[0m\u001b[0mcallbacks\u001b[0m\u001b[0;34m=\u001b[0m\u001b[0mcallback\u001b[0m\u001b[0;34m)\u001b[0m\u001b[0;34m\u001b[0m\u001b[0;34m\u001b[0m\u001b[0m\n\u001b[0m",
            "\u001b[0;32m/usr/local/lib/python3.6/dist-packages/tensorflow/python/util/deprecation.py\u001b[0m in \u001b[0;36mnew_func\u001b[0;34m(*args, **kwargs)\u001b[0m\n\u001b[1;32m    322\u001b[0m               \u001b[0;34m'in a future version'\u001b[0m \u001b[0;32mif\u001b[0m \u001b[0mdate\u001b[0m \u001b[0;32mis\u001b[0m \u001b[0;32mNone\u001b[0m \u001b[0;32melse\u001b[0m \u001b[0;34m(\u001b[0m\u001b[0;34m'after %s'\u001b[0m \u001b[0;34m%\u001b[0m \u001b[0mdate\u001b[0m\u001b[0;34m)\u001b[0m\u001b[0;34m,\u001b[0m\u001b[0;34m\u001b[0m\u001b[0;34m\u001b[0m\u001b[0m\n\u001b[1;32m    323\u001b[0m               instructions)\n\u001b[0;32m--> 324\u001b[0;31m       \u001b[0;32mreturn\u001b[0m \u001b[0mfunc\u001b[0m\u001b[0;34m(\u001b[0m\u001b[0;34m*\u001b[0m\u001b[0margs\u001b[0m\u001b[0;34m,\u001b[0m \u001b[0;34m**\u001b[0m\u001b[0mkwargs\u001b[0m\u001b[0;34m)\u001b[0m\u001b[0;34m\u001b[0m\u001b[0;34m\u001b[0m\u001b[0m\n\u001b[0m\u001b[1;32m    325\u001b[0m     return tf_decorator.make_decorator(\n\u001b[1;32m    326\u001b[0m         \u001b[0mfunc\u001b[0m\u001b[0;34m,\u001b[0m \u001b[0mnew_func\u001b[0m\u001b[0;34m,\u001b[0m \u001b[0;34m'deprecated'\u001b[0m\u001b[0;34m,\u001b[0m\u001b[0;34m\u001b[0m\u001b[0;34m\u001b[0m\u001b[0m\n",
            "\u001b[0;32m/usr/local/lib/python3.6/dist-packages/tensorflow/python/keras/engine/training.py\u001b[0m in \u001b[0;36mfit_generator\u001b[0;34m(self, generator, steps_per_epoch, epochs, verbose, callbacks, validation_data, validation_steps, validation_freq, class_weight, max_queue_size, workers, use_multiprocessing, shuffle, initial_epoch)\u001b[0m\n\u001b[1;32m   1480\u001b[0m         \u001b[0muse_multiprocessing\u001b[0m\u001b[0;34m=\u001b[0m\u001b[0muse_multiprocessing\u001b[0m\u001b[0;34m,\u001b[0m\u001b[0;34m\u001b[0m\u001b[0;34m\u001b[0m\u001b[0m\n\u001b[1;32m   1481\u001b[0m         \u001b[0mshuffle\u001b[0m\u001b[0;34m=\u001b[0m\u001b[0mshuffle\u001b[0m\u001b[0;34m,\u001b[0m\u001b[0;34m\u001b[0m\u001b[0;34m\u001b[0m\u001b[0m\n\u001b[0;32m-> 1482\u001b[0;31m         initial_epoch=initial_epoch)\n\u001b[0m\u001b[1;32m   1483\u001b[0m \u001b[0;34m\u001b[0m\u001b[0m\n\u001b[1;32m   1484\u001b[0m   @deprecation.deprecated(\n",
            "\u001b[0;32m/usr/local/lib/python3.6/dist-packages/tensorflow/python/keras/engine/training.py\u001b[0m in \u001b[0;36m_method_wrapper\u001b[0;34m(self, *args, **kwargs)\u001b[0m\n\u001b[1;32m     64\u001b[0m   \u001b[0;32mdef\u001b[0m \u001b[0m_method_wrapper\u001b[0m\u001b[0;34m(\u001b[0m\u001b[0mself\u001b[0m\u001b[0;34m,\u001b[0m \u001b[0;34m*\u001b[0m\u001b[0margs\u001b[0m\u001b[0;34m,\u001b[0m \u001b[0;34m**\u001b[0m\u001b[0mkwargs\u001b[0m\u001b[0;34m)\u001b[0m\u001b[0;34m:\u001b[0m\u001b[0;34m\u001b[0m\u001b[0;34m\u001b[0m\u001b[0m\n\u001b[1;32m     65\u001b[0m     \u001b[0;32mif\u001b[0m \u001b[0;32mnot\u001b[0m \u001b[0mself\u001b[0m\u001b[0;34m.\u001b[0m\u001b[0m_in_multi_worker_mode\u001b[0m\u001b[0;34m(\u001b[0m\u001b[0;34m)\u001b[0m\u001b[0;34m:\u001b[0m  \u001b[0;31m# pylint: disable=protected-access\u001b[0m\u001b[0;34m\u001b[0m\u001b[0;34m\u001b[0m\u001b[0m\n\u001b[0;32m---> 66\u001b[0;31m       \u001b[0;32mreturn\u001b[0m \u001b[0mmethod\u001b[0m\u001b[0;34m(\u001b[0m\u001b[0mself\u001b[0m\u001b[0;34m,\u001b[0m \u001b[0;34m*\u001b[0m\u001b[0margs\u001b[0m\u001b[0;34m,\u001b[0m \u001b[0;34m**\u001b[0m\u001b[0mkwargs\u001b[0m\u001b[0;34m)\u001b[0m\u001b[0;34m\u001b[0m\u001b[0;34m\u001b[0m\u001b[0m\n\u001b[0m\u001b[1;32m     67\u001b[0m \u001b[0;34m\u001b[0m\u001b[0m\n\u001b[1;32m     68\u001b[0m     \u001b[0;31m# Running inside `run_distribute_coordinator` already.\u001b[0m\u001b[0;34m\u001b[0m\u001b[0;34m\u001b[0m\u001b[0;34m\u001b[0m\u001b[0m\n",
            "\u001b[0;32m/usr/local/lib/python3.6/dist-packages/tensorflow/python/keras/engine/training.py\u001b[0m in \u001b[0;36mfit\u001b[0;34m(self, x, y, batch_size, epochs, verbose, callbacks, validation_split, validation_data, shuffle, class_weight, sample_weight, initial_epoch, steps_per_epoch, validation_steps, validation_batch_size, validation_freq, max_queue_size, workers, use_multiprocessing, **kwargs)\u001b[0m\n\u001b[1;32m    849\u001b[0m                 batch_size=batch_size):\n\u001b[1;32m    850\u001b[0m               \u001b[0mcallbacks\u001b[0m\u001b[0;34m.\u001b[0m\u001b[0mon_train_batch_begin\u001b[0m\u001b[0;34m(\u001b[0m\u001b[0mstep\u001b[0m\u001b[0;34m)\u001b[0m\u001b[0;34m\u001b[0m\u001b[0;34m\u001b[0m\u001b[0m\n\u001b[0;32m--> 851\u001b[0;31m               \u001b[0mtmp_logs\u001b[0m \u001b[0;34m=\u001b[0m \u001b[0mtrain_function\u001b[0m\u001b[0;34m(\u001b[0m\u001b[0miterator\u001b[0m\u001b[0;34m)\u001b[0m\u001b[0;34m\u001b[0m\u001b[0;34m\u001b[0m\u001b[0m\n\u001b[0m\u001b[1;32m    852\u001b[0m               \u001b[0;31m# Catch OutOfRangeError for Datasets of unknown size.\u001b[0m\u001b[0;34m\u001b[0m\u001b[0;34m\u001b[0m\u001b[0;34m\u001b[0m\u001b[0m\n\u001b[1;32m    853\u001b[0m               \u001b[0;31m# This blocks until the batch has finished executing.\u001b[0m\u001b[0;34m\u001b[0m\u001b[0;34m\u001b[0m\u001b[0;34m\u001b[0m\u001b[0m\n",
            "\u001b[0;32m/usr/local/lib/python3.6/dist-packages/tensorflow/python/eager/def_function.py\u001b[0m in \u001b[0;36m__call__\u001b[0;34m(self, *args, **kwds)\u001b[0m\n\u001b[1;32m    578\u001b[0m         \u001b[0mxla_context\u001b[0m\u001b[0;34m.\u001b[0m\u001b[0mExit\u001b[0m\u001b[0;34m(\u001b[0m\u001b[0;34m)\u001b[0m\u001b[0;34m\u001b[0m\u001b[0;34m\u001b[0m\u001b[0m\n\u001b[1;32m    579\u001b[0m     \u001b[0;32melse\u001b[0m\u001b[0;34m:\u001b[0m\u001b[0;34m\u001b[0m\u001b[0;34m\u001b[0m\u001b[0m\n\u001b[0;32m--> 580\u001b[0;31m       \u001b[0mresult\u001b[0m \u001b[0;34m=\u001b[0m \u001b[0mself\u001b[0m\u001b[0;34m.\u001b[0m\u001b[0m_call\u001b[0m\u001b[0;34m(\u001b[0m\u001b[0;34m*\u001b[0m\u001b[0margs\u001b[0m\u001b[0;34m,\u001b[0m \u001b[0;34m**\u001b[0m\u001b[0mkwds\u001b[0m\u001b[0;34m)\u001b[0m\u001b[0;34m\u001b[0m\u001b[0;34m\u001b[0m\u001b[0m\n\u001b[0m\u001b[1;32m    581\u001b[0m \u001b[0;34m\u001b[0m\u001b[0m\n\u001b[1;32m    582\u001b[0m     \u001b[0;32mif\u001b[0m \u001b[0mtracing_count\u001b[0m \u001b[0;34m==\u001b[0m \u001b[0mself\u001b[0m\u001b[0;34m.\u001b[0m\u001b[0m_get_tracing_count\u001b[0m\u001b[0;34m(\u001b[0m\u001b[0;34m)\u001b[0m\u001b[0;34m:\u001b[0m\u001b[0;34m\u001b[0m\u001b[0;34m\u001b[0m\u001b[0m\n",
            "\u001b[0;32m/usr/local/lib/python3.6/dist-packages/tensorflow/python/eager/def_function.py\u001b[0m in \u001b[0;36m_call\u001b[0;34m(self, *args, **kwds)\u001b[0m\n\u001b[1;32m    625\u001b[0m       \u001b[0;31m# This is the first call of __call__, so we have to initialize.\u001b[0m\u001b[0;34m\u001b[0m\u001b[0;34m\u001b[0m\u001b[0;34m\u001b[0m\u001b[0m\n\u001b[1;32m    626\u001b[0m       \u001b[0minitializers\u001b[0m \u001b[0;34m=\u001b[0m \u001b[0;34m[\u001b[0m\u001b[0;34m]\u001b[0m\u001b[0;34m\u001b[0m\u001b[0;34m\u001b[0m\u001b[0m\n\u001b[0;32m--> 627\u001b[0;31m       \u001b[0mself\u001b[0m\u001b[0;34m.\u001b[0m\u001b[0m_initialize\u001b[0m\u001b[0;34m(\u001b[0m\u001b[0margs\u001b[0m\u001b[0;34m,\u001b[0m \u001b[0mkwds\u001b[0m\u001b[0;34m,\u001b[0m \u001b[0madd_initializers_to\u001b[0m\u001b[0;34m=\u001b[0m\u001b[0minitializers\u001b[0m\u001b[0;34m)\u001b[0m\u001b[0;34m\u001b[0m\u001b[0;34m\u001b[0m\u001b[0m\n\u001b[0m\u001b[1;32m    628\u001b[0m     \u001b[0;32mfinally\u001b[0m\u001b[0;34m:\u001b[0m\u001b[0;34m\u001b[0m\u001b[0;34m\u001b[0m\u001b[0m\n\u001b[1;32m    629\u001b[0m       \u001b[0;31m# At this point we know that the initialization is complete (or less\u001b[0m\u001b[0;34m\u001b[0m\u001b[0;34m\u001b[0m\u001b[0;34m\u001b[0m\u001b[0m\n",
            "\u001b[0;32m/usr/local/lib/python3.6/dist-packages/tensorflow/python/eager/def_function.py\u001b[0m in \u001b[0;36m_initialize\u001b[0;34m(self, args, kwds, add_initializers_to)\u001b[0m\n\u001b[1;32m    504\u001b[0m     self._concrete_stateful_fn = (\n\u001b[1;32m    505\u001b[0m         self._stateful_fn._get_concrete_function_internal_garbage_collected(  # pylint: disable=protected-access\n\u001b[0;32m--> 506\u001b[0;31m             *args, **kwds))\n\u001b[0m\u001b[1;32m    507\u001b[0m \u001b[0;34m\u001b[0m\u001b[0m\n\u001b[1;32m    508\u001b[0m     \u001b[0;32mdef\u001b[0m \u001b[0minvalid_creator_scope\u001b[0m\u001b[0;34m(\u001b[0m\u001b[0;34m*\u001b[0m\u001b[0munused_args\u001b[0m\u001b[0;34m,\u001b[0m \u001b[0;34m**\u001b[0m\u001b[0munused_kwds\u001b[0m\u001b[0;34m)\u001b[0m\u001b[0;34m:\u001b[0m\u001b[0;34m\u001b[0m\u001b[0;34m\u001b[0m\u001b[0m\n",
            "\u001b[0;32m/usr/local/lib/python3.6/dist-packages/tensorflow/python/eager/function.py\u001b[0m in \u001b[0;36m_get_concrete_function_internal_garbage_collected\u001b[0;34m(self, *args, **kwargs)\u001b[0m\n\u001b[1;32m   2444\u001b[0m       \u001b[0margs\u001b[0m\u001b[0;34m,\u001b[0m \u001b[0mkwargs\u001b[0m \u001b[0;34m=\u001b[0m \u001b[0;32mNone\u001b[0m\u001b[0;34m,\u001b[0m \u001b[0;32mNone\u001b[0m\u001b[0;34m\u001b[0m\u001b[0;34m\u001b[0m\u001b[0m\n\u001b[1;32m   2445\u001b[0m     \u001b[0;32mwith\u001b[0m \u001b[0mself\u001b[0m\u001b[0;34m.\u001b[0m\u001b[0m_lock\u001b[0m\u001b[0;34m:\u001b[0m\u001b[0;34m\u001b[0m\u001b[0;34m\u001b[0m\u001b[0m\n\u001b[0;32m-> 2446\u001b[0;31m       \u001b[0mgraph_function\u001b[0m\u001b[0;34m,\u001b[0m \u001b[0m_\u001b[0m\u001b[0;34m,\u001b[0m \u001b[0m_\u001b[0m \u001b[0;34m=\u001b[0m \u001b[0mself\u001b[0m\u001b[0;34m.\u001b[0m\u001b[0m_maybe_define_function\u001b[0m\u001b[0;34m(\u001b[0m\u001b[0margs\u001b[0m\u001b[0;34m,\u001b[0m \u001b[0mkwargs\u001b[0m\u001b[0;34m)\u001b[0m\u001b[0;34m\u001b[0m\u001b[0;34m\u001b[0m\u001b[0m\n\u001b[0m\u001b[1;32m   2447\u001b[0m     \u001b[0;32mreturn\u001b[0m \u001b[0mgraph_function\u001b[0m\u001b[0;34m\u001b[0m\u001b[0;34m\u001b[0m\u001b[0m\n\u001b[1;32m   2448\u001b[0m \u001b[0;34m\u001b[0m\u001b[0m\n",
            "\u001b[0;32m/usr/local/lib/python3.6/dist-packages/tensorflow/python/eager/function.py\u001b[0m in \u001b[0;36m_maybe_define_function\u001b[0;34m(self, args, kwargs)\u001b[0m\n\u001b[1;32m   2775\u001b[0m \u001b[0;34m\u001b[0m\u001b[0m\n\u001b[1;32m   2776\u001b[0m       \u001b[0mself\u001b[0m\u001b[0;34m.\u001b[0m\u001b[0m_function_cache\u001b[0m\u001b[0;34m.\u001b[0m\u001b[0mmissed\u001b[0m\u001b[0;34m.\u001b[0m\u001b[0madd\u001b[0m\u001b[0;34m(\u001b[0m\u001b[0mcall_context_key\u001b[0m\u001b[0;34m)\u001b[0m\u001b[0;34m\u001b[0m\u001b[0;34m\u001b[0m\u001b[0m\n\u001b[0;32m-> 2777\u001b[0;31m       \u001b[0mgraph_function\u001b[0m \u001b[0;34m=\u001b[0m \u001b[0mself\u001b[0m\u001b[0;34m.\u001b[0m\u001b[0m_create_graph_function\u001b[0m\u001b[0;34m(\u001b[0m\u001b[0margs\u001b[0m\u001b[0;34m,\u001b[0m \u001b[0mkwargs\u001b[0m\u001b[0;34m)\u001b[0m\u001b[0;34m\u001b[0m\u001b[0;34m\u001b[0m\u001b[0m\n\u001b[0m\u001b[1;32m   2778\u001b[0m       \u001b[0mself\u001b[0m\u001b[0;34m.\u001b[0m\u001b[0m_function_cache\u001b[0m\u001b[0;34m.\u001b[0m\u001b[0mprimary\u001b[0m\u001b[0;34m[\u001b[0m\u001b[0mcache_key\u001b[0m\u001b[0;34m]\u001b[0m \u001b[0;34m=\u001b[0m \u001b[0mgraph_function\u001b[0m\u001b[0;34m\u001b[0m\u001b[0;34m\u001b[0m\u001b[0m\n\u001b[1;32m   2779\u001b[0m       \u001b[0;32mreturn\u001b[0m \u001b[0mgraph_function\u001b[0m\u001b[0;34m,\u001b[0m \u001b[0margs\u001b[0m\u001b[0;34m,\u001b[0m \u001b[0mkwargs\u001b[0m\u001b[0;34m\u001b[0m\u001b[0;34m\u001b[0m\u001b[0m\n",
            "\u001b[0;32m/usr/local/lib/python3.6/dist-packages/tensorflow/python/eager/function.py\u001b[0m in \u001b[0;36m_create_graph_function\u001b[0;34m(self, args, kwargs, override_flat_arg_shapes)\u001b[0m\n\u001b[1;32m   2665\u001b[0m             \u001b[0marg_names\u001b[0m\u001b[0;34m=\u001b[0m\u001b[0marg_names\u001b[0m\u001b[0;34m,\u001b[0m\u001b[0;34m\u001b[0m\u001b[0;34m\u001b[0m\u001b[0m\n\u001b[1;32m   2666\u001b[0m             \u001b[0moverride_flat_arg_shapes\u001b[0m\u001b[0;34m=\u001b[0m\u001b[0moverride_flat_arg_shapes\u001b[0m\u001b[0;34m,\u001b[0m\u001b[0;34m\u001b[0m\u001b[0;34m\u001b[0m\u001b[0m\n\u001b[0;32m-> 2667\u001b[0;31m             capture_by_value=self._capture_by_value),\n\u001b[0m\u001b[1;32m   2668\u001b[0m         \u001b[0mself\u001b[0m\u001b[0;34m.\u001b[0m\u001b[0m_function_attributes\u001b[0m\u001b[0;34m,\u001b[0m\u001b[0;34m\u001b[0m\u001b[0;34m\u001b[0m\u001b[0m\n\u001b[1;32m   2669\u001b[0m         \u001b[0;31m# Tell the ConcreteFunction to clean up its graph once it goes out of\u001b[0m\u001b[0;34m\u001b[0m\u001b[0;34m\u001b[0m\u001b[0;34m\u001b[0m\u001b[0m\n",
            "\u001b[0;32m/usr/local/lib/python3.6/dist-packages/tensorflow/python/framework/func_graph.py\u001b[0m in \u001b[0;36mfunc_graph_from_py_func\u001b[0;34m(name, python_func, args, kwargs, signature, func_graph, autograph, autograph_options, add_control_dependencies, arg_names, op_return_value, collections, capture_by_value, override_flat_arg_shapes)\u001b[0m\n\u001b[1;32m    979\u001b[0m         \u001b[0m_\u001b[0m\u001b[0;34m,\u001b[0m \u001b[0moriginal_func\u001b[0m \u001b[0;34m=\u001b[0m \u001b[0mtf_decorator\u001b[0m\u001b[0;34m.\u001b[0m\u001b[0munwrap\u001b[0m\u001b[0;34m(\u001b[0m\u001b[0mpython_func\u001b[0m\u001b[0;34m)\u001b[0m\u001b[0;34m\u001b[0m\u001b[0;34m\u001b[0m\u001b[0m\n\u001b[1;32m    980\u001b[0m \u001b[0;34m\u001b[0m\u001b[0m\n\u001b[0;32m--> 981\u001b[0;31m       \u001b[0mfunc_outputs\u001b[0m \u001b[0;34m=\u001b[0m \u001b[0mpython_func\u001b[0m\u001b[0;34m(\u001b[0m\u001b[0;34m*\u001b[0m\u001b[0mfunc_args\u001b[0m\u001b[0;34m,\u001b[0m \u001b[0;34m**\u001b[0m\u001b[0mfunc_kwargs\u001b[0m\u001b[0;34m)\u001b[0m\u001b[0;34m\u001b[0m\u001b[0;34m\u001b[0m\u001b[0m\n\u001b[0m\u001b[1;32m    982\u001b[0m \u001b[0;34m\u001b[0m\u001b[0m\n\u001b[1;32m    983\u001b[0m       \u001b[0;31m# invariant: `func_outputs` contains only Tensors, CompositeTensors,\u001b[0m\u001b[0;34m\u001b[0m\u001b[0;34m\u001b[0m\u001b[0;34m\u001b[0m\u001b[0m\n",
            "\u001b[0;32m/usr/local/lib/python3.6/dist-packages/tensorflow/python/eager/def_function.py\u001b[0m in \u001b[0;36mwrapped_fn\u001b[0;34m(*args, **kwds)\u001b[0m\n\u001b[1;32m    439\u001b[0m         \u001b[0;31m# __wrapped__ allows AutoGraph to swap in a converted function. We give\u001b[0m\u001b[0;34m\u001b[0m\u001b[0;34m\u001b[0m\u001b[0;34m\u001b[0m\u001b[0m\n\u001b[1;32m    440\u001b[0m         \u001b[0;31m# the function a weak reference to itself to avoid a reference cycle.\u001b[0m\u001b[0;34m\u001b[0m\u001b[0;34m\u001b[0m\u001b[0;34m\u001b[0m\u001b[0m\n\u001b[0;32m--> 441\u001b[0;31m         \u001b[0;32mreturn\u001b[0m \u001b[0mweak_wrapped_fn\u001b[0m\u001b[0;34m(\u001b[0m\u001b[0;34m)\u001b[0m\u001b[0;34m.\u001b[0m\u001b[0m__wrapped__\u001b[0m\u001b[0;34m(\u001b[0m\u001b[0;34m*\u001b[0m\u001b[0margs\u001b[0m\u001b[0;34m,\u001b[0m \u001b[0;34m**\u001b[0m\u001b[0mkwds\u001b[0m\u001b[0;34m)\u001b[0m\u001b[0;34m\u001b[0m\u001b[0;34m\u001b[0m\u001b[0m\n\u001b[0m\u001b[1;32m    442\u001b[0m     \u001b[0mweak_wrapped_fn\u001b[0m \u001b[0;34m=\u001b[0m \u001b[0mweakref\u001b[0m\u001b[0;34m.\u001b[0m\u001b[0mref\u001b[0m\u001b[0;34m(\u001b[0m\u001b[0mwrapped_fn\u001b[0m\u001b[0;34m)\u001b[0m\u001b[0;34m\u001b[0m\u001b[0;34m\u001b[0m\u001b[0m\n\u001b[1;32m    443\u001b[0m \u001b[0;34m\u001b[0m\u001b[0m\n",
            "\u001b[0;32m/usr/local/lib/python3.6/dist-packages/tensorflow/python/framework/func_graph.py\u001b[0m in \u001b[0;36mwrapper\u001b[0;34m(*args, **kwargs)\u001b[0m\n\u001b[1;32m    966\u001b[0m           \u001b[0;32mexcept\u001b[0m \u001b[0mException\u001b[0m \u001b[0;32mas\u001b[0m \u001b[0me\u001b[0m\u001b[0;34m:\u001b[0m  \u001b[0;31m# pylint:disable=broad-except\u001b[0m\u001b[0;34m\u001b[0m\u001b[0;34m\u001b[0m\u001b[0m\n\u001b[1;32m    967\u001b[0m             \u001b[0;32mif\u001b[0m \u001b[0mhasattr\u001b[0m\u001b[0;34m(\u001b[0m\u001b[0me\u001b[0m\u001b[0;34m,\u001b[0m \u001b[0;34m\"ag_error_metadata\"\u001b[0m\u001b[0;34m)\u001b[0m\u001b[0;34m:\u001b[0m\u001b[0;34m\u001b[0m\u001b[0;34m\u001b[0m\u001b[0m\n\u001b[0;32m--> 968\u001b[0;31m               \u001b[0;32mraise\u001b[0m \u001b[0me\u001b[0m\u001b[0;34m.\u001b[0m\u001b[0mag_error_metadata\u001b[0m\u001b[0;34m.\u001b[0m\u001b[0mto_exception\u001b[0m\u001b[0;34m(\u001b[0m\u001b[0me\u001b[0m\u001b[0;34m)\u001b[0m\u001b[0;34m\u001b[0m\u001b[0;34m\u001b[0m\u001b[0m\n\u001b[0m\u001b[1;32m    969\u001b[0m             \u001b[0;32melse\u001b[0m\u001b[0;34m:\u001b[0m\u001b[0;34m\u001b[0m\u001b[0;34m\u001b[0m\u001b[0m\n\u001b[1;32m    970\u001b[0m               \u001b[0;32mraise\u001b[0m\u001b[0;34m\u001b[0m\u001b[0;34m\u001b[0m\u001b[0m\n",
            "\u001b[0;31mTypeError\u001b[0m: in user code:\n\n    /usr/local/lib/python3.6/dist-packages/tensorflow/python/keras/engine/training.py:571 train_function  *\n        outputs = self.distribute_strategy.run(\n    /usr/local/lib/python3.6/dist-packages/tensorflow/python/distribute/distribute_lib.py:951 run  **\n        return self._extended.call_for_each_replica(fn, args=args, kwargs=kwargs)\n    /usr/local/lib/python3.6/dist-packages/tensorflow/python/distribute/distribute_lib.py:2290 call_for_each_replica\n        return self._call_for_each_replica(fn, args, kwargs)\n    /usr/local/lib/python3.6/dist-packages/tensorflow/python/distribute/distribute_lib.py:2649 _call_for_each_replica\n        return fn(*args, **kwargs)\n    /usr/local/lib/python3.6/dist-packages/tensorflow/python/keras/engine/training.py:533 train_step  **\n        y, y_pred, sample_weight, regularization_losses=self.losses)\n    /usr/local/lib/python3.6/dist-packages/tensorflow/python/keras/engine/compile_utils.py:204 __call__\n        loss_value = loss_obj(y_t, y_p, sample_weight=sw)\n    /usr/local/lib/python3.6/dist-packages/tensorflow/python/keras/losses.py:143 __call__\n        losses = self.call(y_true, y_pred)\n    /usr/local/lib/python3.6/dist-packages/tensorflow/python/keras/losses.py:246 call\n        return self.fn(y_true, y_pred, **self._fn_kwargs)\n    <ipython-input-111-e859b831c716>:6 total_loss\n        loc_loss=(tf.compat.v1.losses.huber_loss            (y_true[:,:,4], y_pred[:,:,4]))/num_pos\n    /usr/local/lib/python3.6/dist-packages/tensorflow/python/ops/math_ops.py:984 binary_op_wrapper\n        return func(x, y, name=name)\n    /usr/local/lib/python3.6/dist-packages/tensorflow/python/ops/math_ops.py:1082 _truediv_python3\n        (x_dtype, y_dtype))\n\n    TypeError: x and y must have the same dtype, got tf.float32 != tf.int64\n"
          ]
        }
      ]
    },
    {
      "cell_type": "code",
      "metadata": {
        "id": "6y_6YArAh10-",
        "colab_type": "code",
        "colab": {}
      },
      "source": [
        "img,label=pre_process_data(trainImagePath[50],trainAnnotationPath[50])\n",
        "y_pred=model.predict(img)\n",
        "tf.image.non_max_suppression(\n",
        "    boxes, scores, max_output_size, iou_threshold=0.5,\n",
        "    score_threshold=float('-inf'), name=None\n",
        ")\n"
      ],
      "execution_count": 0,
      "outputs": []
    }
  ]
}